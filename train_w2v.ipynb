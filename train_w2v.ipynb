{
 "cells": [
  {
   "cell_type": "code",
   "execution_count": 1,
   "id": "b5d4a6b2",
   "metadata": {},
   "outputs": [],
   "source": [
    "import io\n",
    "import time\n",
    "from datetime import timedelta\n",
    "import multiprocessing\n",
    "from gensim.models import word2vec\n",
    "\n",
    "\n",
    "import gensim"
   ]
  },
  {
   "cell_type": "code",
   "execution_count": 4,
   "id": "c266bb76",
   "metadata": {},
   "outputs": [
    {
     "name": "stdout",
     "output_type": "stream",
     "text": [
      "Streaming wiki...\n",
      "10000 articles processed\n",
      "20000 articles processed\n",
      "30000 articles processed\n",
      "40000 articles processed\n",
      "50000 articles processed\n",
      "60000 articles processed\n",
      "70000 articles processed\n",
      "80000 articles processed\n",
      "90000 articles processed\n",
      "100000 articles processed\n",
      "110000 articles processed\n",
      "120000 articles processed\n",
      "130000 articles processed\n",
      "140000 articles processed\n",
      "150000 articles processed\n",
      "160000 articles processed\n",
      "170000 articles processed\n",
      "180000 articles processed\n",
      "190000 articles processed\n",
      "200000 articles processed\n",
      "210000 articles processed\n",
      "220000 articles processed\n",
      "230000 articles processed\n",
      "240000 articles processed\n",
      "250000 articles processed\n",
      "260000 articles processed\n",
      "270000 articles processed\n",
      "280000 articles processed\n",
      "290000 articles processed\n",
      "300000 articles processed\n",
      "310000 articles processed\n",
      "320000 articles processed\n",
      "330000 articles processed\n",
      "340000 articles processed\n",
      "350000 articles processed\n",
      "360000 articles processed\n",
      "370000 articles processed\n",
      "380000 articles processed\n",
      "390000 articles processed\n",
      "400000 articles processed\n",
      "410000 articles processed\n",
      "420000 articles processed\n",
      "total: 423944 articles\n",
      "Elapsed time: 0:43:02.743338\n"
     ]
    }
   ],
   "source": [
    "if __name__ == '__main__':\n",
    "\n",
    "    start_time = time.time()\n",
    "    print('Streaming wiki...')\n",
    "    id_wiki = gensim.corpora.WikiCorpus(\n",
    "        'idwiki-latest-pages-articles.xml.bz2',\n",
    "        lemmatize=None, dictionary={}, lower=True\n",
    "    )\n",
    "    \n",
    "    article_count = 0\n",
    "    with io.open('idwiki_new_lower.txt', 'w', encoding='utf-8') as wiki_txt:\n",
    "        for text in id_wiki.get_texts():\n",
    "\n",
    "            wiki_txt.write(\" \".join(text) + '\\n')\n",
    "            article_count += 1\n",
    "            \n",
    "            if article_count % 10000 == 0:\n",
    "                print('{} articles processed'.format(article_count))\n",
    "        print('total: {} articles'.format(article_count))\n",
    "\n",
    "    finish_time = time.time()\n",
    "    print('Elapsed time: {}'.format(timedelta(seconds=finish_time-start_time)))"
   ]
  },
  {
   "cell_type": "code",
   "execution_count": 2,
   "id": "f910898f",
   "metadata": {},
   "outputs": [
    {
     "name": "stdout",
     "output_type": "stream",
     "text": [
      "Training Word2Vec Model...\n",
      "Finished. Elapsed time: 2:17:16.094788\n"
     ]
    }
   ],
   "source": [
    "if __name__ == '__main__':\n",
    "\n",
    "\n",
    "    start_time = time.time()\n",
    "    print('Training Word2Vec Model...')\n",
    "    sentences = word2vec.LineSentence('idwiki_new_lower.txt')\n",
    "    id_w2v = word2vec.Word2Vec(sentences, vector_size=100, window = 5, min_count=1, sg = 1, hs = 1, workers=multiprocessing.cpu_count()-1)\n",
    "    id_w2v.save('idwiki_word2vec_100_new_lower.model')\n",
    "    finish_time = time.time()\n",
    "\n",
    "    print('Finished. Elapsed time: {}'.format(timedelta(seconds=finish_time-start_time)))"
   ]
  },
  {
   "cell_type": "code",
   "execution_count": 3,
   "id": "8b32d846",
   "metadata": {},
   "outputs": [
    {
     "data": {
      "text/plain": [
       "array([ 1.21433116e-01, -1.36532828e-01,  3.16217422e-01, -1.39857708e-02,\n",
       "       -7.86228329e-02, -4.55889225e-01,  3.83345276e-01, -1.81502804e-01,\n",
       "       -6.82789028e-01, -3.53857785e-01, -1.86789390e-02,  3.80143195e-01,\n",
       "        5.14746606e-01, -5.07798612e-01, -3.52885395e-01,  2.70968854e-01,\n",
       "        5.67469954e-01,  1.32733285e-01, -3.28167170e-01, -3.30179751e-01,\n",
       "       -1.49296045e-01,  7.62868375e-02,  5.89010008e-02, -1.18492238e-01,\n",
       "       -1.57074839e-01, -3.58170092e-01,  2.43053883e-01, -4.91833210e-01,\n",
       "       -4.57954675e-01,  8.27512294e-02, -2.33691111e-01, -1.00702934e-01,\n",
       "        6.66108489e-01, -4.61803526e-01, -1.51711971e-01,  3.93232405e-01,\n",
       "        5.28749749e-02, -5.08757770e-01, -1.11120634e-01, -1.30272740e-02,\n",
       "        7.05967188e-01, -1.35694265e-01,  3.31770122e-01, -1.23802280e+00,\n",
       "        7.64313191e-02,  5.07494211e-02, -5.09012520e-01, -3.14107209e-01,\n",
       "       -2.80273825e-01, -1.21750332e-01, -1.25268772e-01,  7.65541289e-03,\n",
       "        4.26844746e-01,  2.65943617e-01, -6.47517741e-01,  3.14498514e-01,\n",
       "       -6.09817266e-01,  1.24191269e-02,  1.76166138e-03, -5.25378466e-01,\n",
       "       -3.03868204e-01,  3.79396468e-01, -1.12359505e-02,  1.57357097e-01,\n",
       "        3.55775833e-01,  2.99933493e-01, -3.54057550e-01,  3.21869925e-02,\n",
       "       -6.97375655e-01, -3.33764732e-01, -4.29783762e-01, -1.85008943e-01,\n",
       "        6.52475357e-01,  1.09329440e-01, -3.48689519e-02,  2.91992184e-02,\n",
       "       -1.57499760e-01, -5.97684011e-02,  2.19020426e-01,  1.59000248e-01,\n",
       "        1.64885491e-01, -5.19157887e-01, -3.31494063e-01,  1.36235029e-01,\n",
       "       -1.19432196e-01, -1.50670618e-01, -3.03964883e-01,  3.50538224e-01,\n",
       "       -8.56495053e-02,  5.24127841e-01,  3.13177817e-02, -3.25750351e-01,\n",
       "       -1.41360357e-01,  3.98127854e-01, -4.07760119e-04,  3.92200202e-01,\n",
       "       -1.05716223e-02, -3.14804018e-01, -2.57294178e-01, -3.59047830e-01],\n",
       "      dtype=float32)"
      ]
     },
     "execution_count": 3,
     "metadata": {},
     "output_type": "execute_result"
    }
   ],
   "source": [
    "id_w2v.wv.get_vector('covid')"
   ]
  },
  {
   "cell_type": "code",
   "execution_count": 20,
   "id": "779c3289",
   "metadata": {},
   "outputs": [
    {
     "data": {
      "text/plain": [
       "[('koronavirus', 0.9194343090057373),\n",
       " ('pandemi', 0.8890407085418701),\n",
       " ('seycelles', 0.8423090577125549),\n",
       " ('flu', 0.8041819930076599),\n",
       " ('sekaliguas', 0.801044762134552),\n",
       " ('peripartum', 0.8007582426071167),\n",
       " ('koronarivus', 0.7962089776992798),\n",
       " ('terkonfirmasi', 0.7954743504524231),\n",
       " ('influenza', 0.7897539734840393),\n",
       " ('wabah', 0.788364052772522)]"
      ]
     },
     "execution_count": 20,
     "metadata": {},
     "output_type": "execute_result"
    }
   ],
   "source": [
    "id_w2v.wv.most_similar('covid', topn=10)"
   ]
  },
  {
   "cell_type": "code",
   "execution_count": 15,
   "id": "0dacd189",
   "metadata": {},
   "outputs": [
    {
     "name": "stdout",
     "output_type": "stream",
     "text": [
      "Jumlah vocab kata : 243941 \n",
      "\n",
      "Tampilkan 10 vocab kata teratas  : \n",
      " ['dan', 'yang', 'di', 'pada', 'dari', 'ini', 'dengan', 'dalam', 'untuk', 'adalah']\n"
     ]
    }
   ],
   "source": [
    "print(\"Jumlah vocab kata : %d \\n\" %len(id_w2v.wv.index_to_key)) \n",
    "print(\"Tampilkan 10 vocab kata teratas  : \\n\", id_w2v.wv.index_to_key[0:10])"
   ]
  },
  {
   "cell_type": "code",
   "execution_count": 2,
   "id": "314f5bab",
   "metadata": {},
   "outputs": [
    {
     "name": "stdout",
     "output_type": "stream",
     "text": [
      "Training Word2Vec Model...\n",
      "Finished. Elapsed time: 3:09:09.608846\n"
     ]
    }
   ],
   "source": [
    "if __name__ == '__main__':\n",
    "\n",
    "\n",
    "    start_time = time.time()\n",
    "    print('Training Word2Vec Model...')\n",
    "    sentences_200d = word2vec.LineSentence('idwiki_new_lower.txt')\n",
    "    id_w2v_200d = word2vec.Word2Vec(sentences_200d, vector_size=200, window = 5, min_count=1, sg = 1, hs = 1, workers=multiprocessing.cpu_count()-1)\n",
    "    id_w2v_200d.save('idwiki_word2vec_200_new_lower.model')\n",
    "    finish_time = time.time()\n",
    "\n",
    "    print('Finished. Elapsed time: {}'.format(timedelta(seconds=finish_time-start_time)))"
   ]
  },
  {
   "cell_type": "code",
   "execution_count": 3,
   "id": "a5f3e7b3",
   "metadata": {},
   "outputs": [
    {
     "name": "stdout",
     "output_type": "stream",
     "text": [
      "Training Word2Vec Model...\n",
      "Finished. Elapsed time: 8:10:23.528379\n"
     ]
    }
   ],
   "source": [
    "if __name__ == '__main__':\n",
    "\n",
    "\n",
    "    start_time = time.time()\n",
    "    print('Training Word2Vec Model...')\n",
    "    sentences_300d = word2vec.LineSentence('idwiki_new_lower.txt')\n",
    "    id_w2v_300d = word2vec.Word2Vec(sentences_300d, vector_size=300, window = 5, min_count=1, sg = 1, hs = 1, workers=multiprocessing.cpu_count()-1)\n",
    "    id_w2v_300d.save('idwiki_word2vec_300_new_lower.model')\n",
    "    finish_time = time.time()\n",
    "\n",
    "    \n",
    "    print('Finished. Elapsed time: {}'.format(timedelta(seconds=finish_time-start_time)))"
   ]
  },
  {
   "cell_type": "code",
   "execution_count": 4,
   "id": "71f7e48d",
   "metadata": {},
   "outputs": [],
   "source": [
    "#making binary file\n",
    "from gensim.models import Word2Vec"
   ]
  },
  {
   "cell_type": "code",
   "execution_count": 5,
   "id": "839c3588",
   "metadata": {},
   "outputs": [],
   "source": [
    "#load model korpus word2vec wikipedia\n",
    "id_w2v1 = Word2Vec.load(\"idwiki_word2vec_100_new_lower.model\")"
   ]
  },
  {
   "cell_type": "code",
   "execution_count": 6,
   "id": "90670941",
   "metadata": {},
   "outputs": [],
   "source": [
    "id_w2v1.wv.save_word2vec_format('idwiki_w2v_100d.bin', binary=True)"
   ]
  },
  {
   "cell_type": "code",
   "execution_count": null,
   "id": "07f6fccd",
   "metadata": {},
   "outputs": [],
   "source": [
    "id_w2v2 = Word2Vec.load(\"idwiki_word2vec_200_new_lower.model\")"
   ]
  },
  {
   "cell_type": "code",
   "execution_count": null,
   "id": "aa32d9f1",
   "metadata": {},
   "outputs": [],
   "source": [
    "id_w2v2.wv.save_word2vec_format('idwiki_w2v_200d.bin', binary=True)"
   ]
  },
  {
   "cell_type": "code",
   "execution_count": null,
   "id": "ce50098f",
   "metadata": {},
   "outputs": [],
   "source": [
    "id_w2v3 = Word2Vec.load(\"idwiki_word2vec_300_new_lower.model\")"
   ]
  },
  {
   "cell_type": "code",
   "execution_count": null,
   "id": "66a1e83b",
   "metadata": {},
   "outputs": [],
   "source": [
    "id_w2v3.wv.save_word2vec_format('idwiki_w2v_300d.bin', binary=True)"
   ]
  },
  {
   "cell_type": "code",
   "execution_count": null,
   "id": "d848132e",
   "metadata": {},
   "outputs": [],
   "source": []
  }
 ],
 "metadata": {
  "kernelspec": {
   "display_name": "Python 3",
   "language": "python",
   "name": "python3"
  },
  "language_info": {
   "codemirror_mode": {
    "name": "ipython",
    "version": 3
   },
   "file_extension": ".py",
   "mimetype": "text/x-python",
   "name": "python",
   "nbconvert_exporter": "python",
   "pygments_lexer": "ipython3",
   "version": "3.8.5"
  }
 },
 "nbformat": 4,
 "nbformat_minor": 5
}
