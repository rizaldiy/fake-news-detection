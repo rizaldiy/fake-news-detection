{
 "cells": [
  {
   "cell_type": "code",
   "execution_count": 1,
   "id": "cc2779ee",
   "metadata": {},
   "outputs": [],
   "source": [
    "import pandas as pd\n",
    "import requests\n",
    "from bs4 import BeautifulSoup"
   ]
  },
  {
   "cell_type": "code",
   "execution_count": 2,
   "id": "9a45f647",
   "metadata": {},
   "outputs": [],
   "source": [
    "titles = []\n",
    "dates = []\n",
    "links = []\n",
    "page = 1\n",
    "\n",
    "while (page <= 115):\n",
    "    \n",
    "    url = requests.get(f\"https://detik.com/search/searchall?query=covid&siteid=2&sortby=time&page={page}\")\n",
    "    soup = BeautifulSoup(url.text, 'lxml')\n",
    "    for article in soup.select('div.list-berita article'):\n",
    "        news_title = article.find('h2', class_='title').text\n",
    "        titles.append(news_title)\n",
    "        news_date = article.find('span', class_='date').contents[1]\n",
    "        dates.append(news_date)\n",
    "        link = article.find('a')['href']\n",
    "        links.append(link)\n",
    "\n",
    "    page += 1"
   ]
  },
  {
   "cell_type": "code",
   "execution_count": 3,
   "id": "a1765f01",
   "metadata": {},
   "outputs": [
    {
     "data": {
      "text/plain": [
       "['Daftar 53 Negara Tingkat Ketahanan COVID-19 Terbaik, RI Kedua Terbawah',\n",
       " 'Boleh Agak Lega, WHO Ungkap Data Awal Riset Varian Omicron',\n",
       " \"Kasus COVID-19 Afsel Nanjak Nyaris 20 Ribu, Cetak Rekor 'Wabah' Omicron\",\n",
       " 'Apes Banget! Sudah Buang Duit Rp 133 Juta, Eh Malah Batal Bulan Madu',\n",
       " 'Pemerintah Mesti Matangkan Penerapan Sistem Peringatan Dini di TV Digital',\n",
       " 'WHO Minta Jangan Lelet dalam Hadapi Kemunculan Varian Omicron',\n",
       " \"Emak-emak ini Pelihara 'Tuyul' Kripto Dapat Rp 8 Juta/ bulan\",\n",
       " 'Skenario Restrukturisasi Angkasa Pura I yang Babak Belur Gegara Pandemi',\n",
       " 'Kabar Baik, 3 Dosis Vaksin Pfizer Bisa Netralkan Omicron di Laboratorium',\n",
       " 'Kemenkes Bantah Omicron di Bekasi, Para Ahli Malah Yakin Sudah Masuk RI',\n",
       " \"Usulan Epidemiolog Pakai 'Proxy Method' untuk Deteksi Omicron\",\n",
       " 'Hoax! Dinkes Pastikan Tak Ada Varian Omicron di DKI Jakarta',\n",
       " \"Duduk Perkara 'Temuan' Omicron di Bekasi, Akhirnya Dibantah Ramai-ramai\",\n",
       " 'Penasihat PM Inggris Mengundurkan Diri Buntut Candaan soal Pesta Natal',\n",
       " 'Conte Konfirmasi Ada 13 Kasus COVID-19 di Tottenham',\n",
       " 'IMI Dapat Solidarity Trophy 2021 dari FIM',\n",
       " 'MPR Bantah Ngambek ke Menkeu karena Anggaran Dipangkas, Kenapa Dong?',\n",
       " 'Karantina dari Luar Negeri 10 Hari, Menkominfo: Mohon Taati Aturan',\n",
       " 'Kasus COVID-19 Naik di Beberapa Daerah, Masyarakat Diminta Waspada',\n",
       " 'Lancarnya Kedatangan Vaksin Bikin Percepatan Vaksinasi Lebih Optimal']"
      ]
     },
     "execution_count": 3,
     "metadata": {},
     "output_type": "execute_result"
    }
   ],
   "source": [
    "titles[0:20]"
   ]
  },
  {
   "cell_type": "code",
   "execution_count": 4,
   "id": "af013236",
   "metadata": {},
   "outputs": [
    {
     "data": {
      "text/plain": [
       "['https://health.detik.com/berita-detikhealth/d-5847153/daftar-53-negara-tingkat-ketahanan-covid-19-terbaik-ri-kedua-terbawah',\n",
       " 'https://health.detik.com/berita-detikhealth/d-5847107/boleh-agak-lega-who-ungkap-data-awal-riset-varian-omicron',\n",
       " 'https://health.detik.com/berita-detikhealth/d-5847094/kasus-covid-19-afsel-nanjak-nyaris-20-ribu-cetak-rekor-wabah-omicron',\n",
       " 'https://travel.detik.com/travel-news/d-5846958/apes-banget-sudah-buang-duit-rp-133-juta-eh-malah-batal-bulan-madu',\n",
       " 'https://inet.detik.com/law-and-policy/d-5847080/pemerintah-mesti-matangkan-penerapan-sistem-peringatan-dini-di-tv-digital',\n",
       " 'https://health.detik.com/detiktv/d-5847084/who-minta-jangan-lelet-dalam-hadapi-kemunculan-varian-omicron',\n",
       " 'https://finance.detik.com/berita-ekonomi-bisnis/d-5847076/emak-emak-ini-pelihara-tuyul-kripto-dapat-rp-8-juta-bulan',\n",
       " 'https://finance.detik.com/detiktv/d-5847074/skenario-restrukturisasi-angkasa-pura-i-yang-babak-belur-gegara-pandemi',\n",
       " 'https://health.detik.com/berita-detikhealth/d-5847055/kabar-baik-3-dosis-vaksin-pfizer-bisa-netralkan-omicron-di-laboratorium',\n",
       " 'https://health.detik.com/berita-detikhealth/d-5847013/kemenkes-bantah-omicron-di-bekasi-para-ahli-malah-yakin-sudah-masuk-ri']"
      ]
     },
     "execution_count": 4,
     "metadata": {},
     "output_type": "execute_result"
    }
   ],
   "source": [
    "links[0:10]"
   ]
  },
  {
   "cell_type": "code",
   "execution_count": 5,
   "id": "435b8217",
   "metadata": {},
   "outputs": [
    {
     "data": {
      "text/plain": [
       "['Kamis, 09 Des 2021 08:30 WIB',\n",
       " 'Kamis, 09 Des 2021 08:00 WIB',\n",
       " 'Kamis, 09 Des 2021 07:34 WIB',\n",
       " 'Kamis, 09 Des 2021 07:15 WIB',\n",
       " 'Kamis, 09 Des 2021 07:15 WIB',\n",
       " 'Kamis, 09 Des 2021 07:06 WIB',\n",
       " 'Kamis, 09 Des 2021 06:41 WIB',\n",
       " 'Kamis, 09 Des 2021 06:37 WIB',\n",
       " 'Kamis, 09 Des 2021 06:12 WIB',\n",
       " 'Kamis, 09 Des 2021 06:00 WIB']"
      ]
     },
     "execution_count": 5,
     "metadata": {},
     "output_type": "execute_result"
    }
   ],
   "source": [
    "dates[0:10]"
   ]
  },
  {
   "cell_type": "code",
   "execution_count": 9,
   "id": "33345a2e",
   "metadata": {},
   "outputs": [
    {
     "data": {
      "text/plain": [
       "['https://news.detik.com/berita-jawa-tengah/d-5826860/7-murid-kena-corona-sekolah-tatap-muka-slbn-1-gunungkidul-disetop',\n",
       " 'https://news.detik.com/berita-jawa-barat/d-5826846/bupati-pandeglang-minta-pengelola-wisata-perketat-prokes-saat-nataru',\n",
       " 'https://news.detik.com/berita-jawa-timur/d-5826835/dinsos-blitar-akui-ada-asn-masuk-daftar-penerima-bansos-di-awal-pandemi',\n",
       " 'https://health.detik.com/detiktv/d-5826843/who-rawat-inap-pasien-covid-19-di-dki-jakarta-meningkat',\n",
       " 'https://oto.detik.com/mobil/d-5826842/penjualan-mobil-gaspol-ini-merek-terlaris-di-oktober',\n",
       " 'https://news.detik.com/kolom/d-5826818/memulihkan-sektor-pariwisata',\n",
       " 'https://news.detik.com/berita/d-5826811/mendagri-tegur-pemda-yang-serapan-belanjanya-masih-rendah',\n",
       " 'https://travel.detik.com/travel-news/d-5826743/pertama-kali-airbnb-buat-promosi-khusus-indonesia',\n",
       " 'https://news.detik.com/berita-jawa-barat/d-5826786/bupati-kuningan-larang-asn-mudik-cuti-saat-libur-nataru',\n",
       " 'https://news.detik.com/berita/d-5826771/kemenperin-serahkan-1000-tabung-oksigen--regulator-ke-pemprov-sumbar',\n",
       " 'https://news.detik.com/berita/d-5826763/kapan-ppkm-level-3-diberlakukan-ini-jadwalnya-di-akhir-tahun',\n",
       " 'https://news.detik.com/berita-jawa-tengah/d-5826759/minta-kenaikan-umk-10-massa-buruh-geruduk-kantor-bupati-demak',\n",
       " 'https://news.detik.com/berita-jawa-barat/d-5826730/bupati-cellica-rekomendasikan-umk-karawang-2022-naik-527-persen',\n",
       " 'https://health.detik.com/detiktv/d-5826746/staf-pfizer-diduga-colong-data-rahasia-vaksin-covid-19',\n",
       " 'https://news.detik.com/berita-jawa-tengah/d-5826724/catat-lur-alun-alun-wates-akan-ditutup-saat-libur-nataru',\n",
       " 'https://news.detik.com/berita-jawa-timur/d-5826714/ada-36-tambahan-kasus-covid-19-di-jatim-terbanyak-surabaya-raya',\n",
       " 'https://news.detik.com/berita/d-5826707/persyaratan-vaksin-ke-2-wajib-diketahui-termasuk-soal-interval',\n",
       " 'https://hot.detik.com/kpop/d-5826706/kino-pentagon-positif-covid-19-member-lain-negatif',\n",
       " 'https://news.detik.com/berita/d-5826711/hari-anti-kekerasan-terhadap-perempuan-internasional-ini-sejarahnya',\n",
       " 'https://finance.detik.com/energi/d-5826692/cara-cek-tagihan-listrik-plncepat-dan-mudah-jangan-bingung-lagi',\n",
       " 'https://news.detik.com/berita-jawa-tengah/d-5826686/kasus-dukun-sianida-di-magelang-direkonstruksi-47-adegan-diperagakan',\n",
       " 'https://health.detik.com/berita-detikhealth/d-5826674/10-negara-eropa-diamuk-covid-19-kasus-menggila-hingga-terpaksa-lockdown-lagi',\n",
       " 'https://travel.detik.com/travel-news/d-5826668/pede-reddoorz-targetkan-okupansi-16-juta-di-tahun-2022',\n",
       " 'https://www.detik.com/edu/detiktv/d-5826673/hari-guru-nasional-nadiem-makarim-guru-nyalakan-obor-perubahan',\n",
       " 'https://oto.detik.com/otosport/d-5826590/bamsoet-formula-e-2022-akan-bawa-nama-jakarta--ri-ke-level-lebih-tinggi',\n",
       " 'https://finance.detik.com/properti/d-5826648/dapat-hibah-tanah-eks-blbi-pemkot-bogor-mau-bangun-ibu-kota-baru',\n",
       " 'https://health.detik.com/berita-detikhealth/d-5826638/alert-ri-disebut-bisa-alami-lonjakan-seperti-eropa-di-kuartal-i-2022',\n",
       " 'https://finance.detik.com/berita-ekonomi-bisnis/d-5826610/jumlah-penumpang-di-bandara-komodo-turun-drastis-jadi-cuma-segini',\n",
       " 'https://news.detik.com/berita-jawa-tengah/d-5826613/mbak-mbak-lc-di-pati-dijemur-pagi-gegara-nekat-beroperasi',\n",
       " 'https://hot.detik.com/music/d-5826551/kesulitan-aviwkila-rekaman-lagu-aku-atau-dia',\n",
       " 'https://finance.detik.com/berita-ekonomi-bisnis/d-5826591/nggak-nyangka-milenial--gen-z-ternyata-paling-terdampak-covid-19',\n",
       " 'https://news.detik.com/berita/d-5826596/aturan-ppkm-level-3-desember-2021-terkait-wisata-mal-ini-isinya',\n",
       " 'https://news.detik.com/berita-jawa-timur/d-5826681/pesan-khofifah-di-hari-guru-nasional-inovatif-dan-manfaatkan-teknologi-saat-pandemi',\n",
       " 'https://travel.detik.com/travel-news/d-5826576/selandia-baru-buka-pintu-untuk-turis-asing-tahun-depan-lho',\n",
       " 'https://hot.detik.com/detiktv/d-5826545/hasil-pcr-jennie-jisoo-dan-ros-blackpink-negatif',\n",
       " 'https://news.detik.com/berita/d-5826517/polda-metro-belum-terbitkan-izin-reuni-212-ini-syarat-yang-harus-dipenuhi',\n",
       " 'https://news.detik.com/berita/d-5826509/demo-buruh-25-november-2021-ini-kabar-dari-dki-jabar-jateng',\n",
       " 'https://oto.detik.com/ototest-mobil/d-5826499/menggeber-wuling-almaz-rs-3000-km-jakarta-bali-seberapa-tangguh',\n",
       " 'https://hot.detik.com/kpop/d-5826432/sudah-vaksin-jisoo-jennie-dan-rose-blackpink-negatif-covid-19',\n",
       " 'https://finance.detik.com/berita-ekonomi-bisnis/d-5826495/prancis-puji-cara-ri-tangani-covid-luhut-sanjung-jokowi',\n",
       " 'https://news.detik.com/berita-jawa-barat/d-5826486/umk-banjar-terendah-di-jabar-begini-perbandingan-2019-2021',\n",
       " 'https://finance.detik.com/berita-ekonomi-bisnis/d-5826476/vaksinasi-dunia-tak-merata-sri-mulyani-waswas-ancaman-varian-baru',\n",
       " 'https://news.detik.com/berita/d-5826468/polda-metro-belum-keluarkan-rekomendasi-reuni-212-digelar',\n",
       " 'https://hot.detik.com/celeb/d-5826466/ashanty-jelaskan-akunnya-sampai-di-banned-instagram',\n",
       " 'https://health.detik.com/berita-detikhealth/d-5826464/dokter-sibuk-tangani-amukan-covid-19-pasien-eropa-ini-terpaksa-operasi-sendiri',\n",
       " 'https://news.detik.com/detiktv/d-5826457/catat-ini-7-aturan-ppkm-level-3-saat-nataru',\n",
       " 'https://news.detik.com/berita-jawa-barat/d-5826456/perbandingan-umk-karawang-2019-2021-tertinggi-di-jabar',\n",
       " 'https://news.detik.com/berita-jawa-timur/d-5826502/capaian-vaksinasi-lansia-di-kota-malang-baru-53-ribu-orang-ini-penyebabnya',\n",
       " 'https://travel.detik.com/travel-news/d-5826422/jelang-nataru-prokes-di-wisata-kabupaten-semarang-diperketat',\n",
       " 'https://www.detik.com/edu/sekolah/d-5826405/menteri-nadiem-pandemi-guru-menangis-melihat-murid-kehilangan-disiplin']"
      ]
     },
     "execution_count": 9,
     "metadata": {},
     "output_type": "execute_result"
    }
   ],
   "source": [
    "links[0:50]"
   ]
  },
  {
   "cell_type": "code",
   "execution_count": 7,
   "id": "8078be97",
   "metadata": {},
   "outputs": [
    {
     "data": {
      "text/plain": [
       "1035"
      ]
     },
     "execution_count": 7,
     "metadata": {},
     "output_type": "execute_result"
    }
   ],
   "source": [
    "len(titles)"
   ]
  },
  {
   "cell_type": "code",
   "execution_count": 8,
   "id": "6f6ca1bf",
   "metadata": {},
   "outputs": [],
   "source": [
    "news_content = []\n",
    "\n",
    "for link in links:\n",
    "    response = requests.get(link)\n",
    "    soup_link = BeautifulSoup(response.text, 'lxml')\n",
    "    soup_text = soup_link.find_all('div', class_='itp_bodycontent')\n",
    "    soup_Clink = soup_link.select('a.detail__anchor-numb')      \n",
    "    if soup_text:\n",
    "        for p_text in soup_text:\n",
    "            find_p = p_text.find_all('p')\n",
    "            list_paragraphs = []\n",
    "            for p in range(len(find_p)):\n",
    "                paragraph = find_p[p].get_text()\n",
    "                list_paragraphs.append(paragraph)\n",
    "                final_text = \" \".join(list_paragraphs)\n",
    "            news_content.append(final_text)\n",
    "    else:\n",
    "        news_content.append('no content')\n"
   ]
  },
  {
   "cell_type": "code",
   "execution_count": 8,
   "id": "2a33ccd8",
   "metadata": {},
   "outputs": [
    {
     "data": {
      "text/plain": [
       "1035"
      ]
     },
     "execution_count": 8,
     "metadata": {},
     "output_type": "execute_result"
    }
   ],
   "source": [
    "len(news_content)"
   ]
  },
  {
   "cell_type": "code",
   "execution_count": 10,
   "id": "b79857eb",
   "metadata": {},
   "outputs": [],
   "source": [
    "data_col = {'Title': titles, 'Text': news_content, 'Date': dates}\n",
    "data = pd.DataFrame(data_col)\n",
    "data.to_csv('crawl_detik.csv', index=False)"
   ]
  },
  {
   "cell_type": "code",
   "execution_count": 11,
   "id": "57f088be",
   "metadata": {},
   "outputs": [
    {
     "data": {
      "text/html": [
       "<div>\n",
       "<style scoped>\n",
       "    .dataframe tbody tr th:only-of-type {\n",
       "        vertical-align: middle;\n",
       "    }\n",
       "\n",
       "    .dataframe tbody tr th {\n",
       "        vertical-align: top;\n",
       "    }\n",
       "\n",
       "    .dataframe thead th {\n",
       "        text-align: right;\n",
       "    }\n",
       "</style>\n",
       "<table border=\"1\" class=\"dataframe\">\n",
       "  <thead>\n",
       "    <tr style=\"text-align: right;\">\n",
       "      <th></th>\n",
       "      <th>judul</th>\n",
       "      <th>teks</th>\n",
       "      <th>tanggal</th>\n",
       "    </tr>\n",
       "  </thead>\n",
       "  <tbody>\n",
       "    <tr>\n",
       "      <th>0</th>\n",
       "      <td>Daftar 53 Negara Tingkat Ketahanan COVID-19 Te...</td>\n",
       "      <td>Belum lama ini, media Bloomberg melakukan surv...</td>\n",
       "      <td>Kamis, 09 Des 2021 08:30 WIB</td>\n",
       "    </tr>\n",
       "    <tr>\n",
       "      <th>1</th>\n",
       "      <td>Boleh Agak Lega, WHO Ungkap Data Awal Riset Va...</td>\n",
       "      <td>Organisasi Kesehatan Dunia (WHO) mengungkapkan...</td>\n",
       "      <td>Kamis, 09 Des 2021 08:00 WIB</td>\n",
       "    </tr>\n",
       "    <tr>\n",
       "      <th>2</th>\n",
       "      <td>Kasus COVID-19 Afsel Nanjak Nyaris 20 Ribu, Ce...</td>\n",
       "      <td>Diserang Corona B.1.1.529, Afrika Selatan mela...</td>\n",
       "      <td>Kamis, 09 Des 2021 07:34 WIB</td>\n",
       "    </tr>\n",
       "    <tr>\n",
       "      <th>3</th>\n",
       "      <td>Apes Banget! Sudah Buang Duit Rp 133 Juta, Eh ...</td>\n",
       "      <td>Bagai jatuh tertimpa tangga, itulah yang diras...</td>\n",
       "      <td>Kamis, 09 Des 2021 07:15 WIB</td>\n",
       "    </tr>\n",
       "    <tr>\n",
       "      <th>4</th>\n",
       "      <td>Pemerintah Mesti Matangkan Penerapan Sistem Pe...</td>\n",
       "      <td>Bencana alam yang tidak dapat diprediksikan ke...</td>\n",
       "      <td>Kamis, 09 Des 2021 07:15 WIB</td>\n",
       "    </tr>\n",
       "    <tr>\n",
       "      <th>5</th>\n",
       "      <td>WHO Minta Jangan Lelet dalam Hadapi Kemunculan...</td>\n",
       "      <td>Varian Omicron kini sudah terdeteksi di 57 neg...</td>\n",
       "      <td>Kamis, 09 Des 2021 07:06 WIB</td>\n",
       "    </tr>\n",
       "    <tr>\n",
       "      <th>6</th>\n",
       "      <td>Emak-emak ini Pelihara 'Tuyul' Kripto Dapat Rp...</td>\n",
       "      <td>Proses mining atau menambang aset kripto tenga...</td>\n",
       "      <td>Kamis, 09 Des 2021 06:41 WIB</td>\n",
       "    </tr>\n",
       "    <tr>\n",
       "      <th>7</th>\n",
       "      <td>Skenario Restrukturisasi Angkasa Pura I yang B...</td>\n",
       "      <td>no content</td>\n",
       "      <td>Kamis, 09 Des 2021 06:37 WIB</td>\n",
       "    </tr>\n",
       "    <tr>\n",
       "      <th>8</th>\n",
       "      <td>Kabar Baik, 3 Dosis Vaksin Pfizer Bisa Netralk...</td>\n",
       "      <td>Kabar baik, 3 dosis vaksin Pfizer-BioNTech mam...</td>\n",
       "      <td>Kamis, 09 Des 2021 06:12 WIB</td>\n",
       "    </tr>\n",
       "    <tr>\n",
       "      <th>9</th>\n",
       "      <td>Kemenkes Bantah Omicron di Bekasi, Para Ahli M...</td>\n",
       "      <td>Sempat heboh, kabar varian Omicron B.1.1.529 d...</td>\n",
       "      <td>Kamis, 09 Des 2021 06:00 WIB</td>\n",
       "    </tr>\n",
       "  </tbody>\n",
       "</table>\n",
       "</div>"
      ],
      "text/plain": [
       "                                               judul  \\\n",
       "0  Daftar 53 Negara Tingkat Ketahanan COVID-19 Te...   \n",
       "1  Boleh Agak Lega, WHO Ungkap Data Awal Riset Va...   \n",
       "2  Kasus COVID-19 Afsel Nanjak Nyaris 20 Ribu, Ce...   \n",
       "3  Apes Banget! Sudah Buang Duit Rp 133 Juta, Eh ...   \n",
       "4  Pemerintah Mesti Matangkan Penerapan Sistem Pe...   \n",
       "5  WHO Minta Jangan Lelet dalam Hadapi Kemunculan...   \n",
       "6  Emak-emak ini Pelihara 'Tuyul' Kripto Dapat Rp...   \n",
       "7  Skenario Restrukturisasi Angkasa Pura I yang B...   \n",
       "8  Kabar Baik, 3 Dosis Vaksin Pfizer Bisa Netralk...   \n",
       "9  Kemenkes Bantah Omicron di Bekasi, Para Ahli M...   \n",
       "\n",
       "                                                teks  \\\n",
       "0  Belum lama ini, media Bloomberg melakukan surv...   \n",
       "1  Organisasi Kesehatan Dunia (WHO) mengungkapkan...   \n",
       "2  Diserang Corona B.1.1.529, Afrika Selatan mela...   \n",
       "3  Bagai jatuh tertimpa tangga, itulah yang diras...   \n",
       "4  Bencana alam yang tidak dapat diprediksikan ke...   \n",
       "5  Varian Omicron kini sudah terdeteksi di 57 neg...   \n",
       "6  Proses mining atau menambang aset kripto tenga...   \n",
       "7                                         no content   \n",
       "8  Kabar baik, 3 dosis vaksin Pfizer-BioNTech mam...   \n",
       "9  Sempat heboh, kabar varian Omicron B.1.1.529 d...   \n",
       "\n",
       "                        tanggal  \n",
       "0  Kamis, 09 Des 2021 08:30 WIB  \n",
       "1  Kamis, 09 Des 2021 08:00 WIB  \n",
       "2  Kamis, 09 Des 2021 07:34 WIB  \n",
       "3  Kamis, 09 Des 2021 07:15 WIB  \n",
       "4  Kamis, 09 Des 2021 07:15 WIB  \n",
       "5  Kamis, 09 Des 2021 07:06 WIB  \n",
       "6  Kamis, 09 Des 2021 06:41 WIB  \n",
       "7  Kamis, 09 Des 2021 06:37 WIB  \n",
       "8  Kamis, 09 Des 2021 06:12 WIB  \n",
       "9  Kamis, 09 Des 2021 06:00 WIB  "
      ]
     },
     "execution_count": 11,
     "metadata": {},
     "output_type": "execute_result"
    }
   ],
   "source": [
    "data = pd.read_csv('crawl_detik.csv')\n",
    "data.head(10)"
   ]
  },
  {
   "cell_type": "code",
   "execution_count": 14,
   "id": "5a251f77",
   "metadata": {},
   "outputs": [
    {
     "data": {
      "text/plain": [
       "1035"
      ]
     },
     "execution_count": 14,
     "metadata": {},
     "output_type": "execute_result"
    }
   ],
   "source": [
    "len(data)"
   ]
  },
  {
   "cell_type": "code",
   "execution_count": 12,
   "id": "3b4b82f2",
   "metadata": {},
   "outputs": [],
   "source": [
    "data.drop(data[(data['teks'] == 'no content')].index, inplace = True)"
   ]
  },
  {
   "cell_type": "code",
   "execution_count": 19,
   "id": "c56514b4",
   "metadata": {},
   "outputs": [
    {
     "data": {
      "text/plain": [
       "996"
      ]
     },
     "execution_count": 19,
     "metadata": {},
     "output_type": "execute_result"
    }
   ],
   "source": [
    "len(data)"
   ]
  },
  {
   "cell_type": "code",
   "execution_count": 17,
   "id": "957e7b04",
   "metadata": {},
   "outputs": [
    {
     "data": {
      "text/html": [
       "<div>\n",
       "<style scoped>\n",
       "    .dataframe tbody tr th:only-of-type {\n",
       "        vertical-align: middle;\n",
       "    }\n",
       "\n",
       "    .dataframe tbody tr th {\n",
       "        vertical-align: top;\n",
       "    }\n",
       "\n",
       "    .dataframe thead th {\n",
       "        text-align: right;\n",
       "    }\n",
       "</style>\n",
       "<table border=\"1\" class=\"dataframe\">\n",
       "  <thead>\n",
       "    <tr style=\"text-align: right;\">\n",
       "      <th></th>\n",
       "      <th>judul</th>\n",
       "      <th>teks</th>\n",
       "      <th>tanggal</th>\n",
       "    </tr>\n",
       "  </thead>\n",
       "  <tbody>\n",
       "    <tr>\n",
       "      <th>0</th>\n",
       "      <td>Daftar 53 Negara Tingkat Ketahanan COVID-19 Te...</td>\n",
       "      <td>Belum lama ini, media Bloomberg melakukan surv...</td>\n",
       "      <td>Kamis, 09 Des 2021 08:30 WIB</td>\n",
       "    </tr>\n",
       "    <tr>\n",
       "      <th>1</th>\n",
       "      <td>Boleh Agak Lega, WHO Ungkap Data Awal Riset Va...</td>\n",
       "      <td>Organisasi Kesehatan Dunia (WHO) mengungkapkan...</td>\n",
       "      <td>Kamis, 09 Des 2021 08:00 WIB</td>\n",
       "    </tr>\n",
       "    <tr>\n",
       "      <th>2</th>\n",
       "      <td>Kasus COVID-19 Afsel Nanjak Nyaris 20 Ribu, Ce...</td>\n",
       "      <td>Diserang Corona B.1.1.529, Afrika Selatan mela...</td>\n",
       "      <td>Kamis, 09 Des 2021 07:34 WIB</td>\n",
       "    </tr>\n",
       "    <tr>\n",
       "      <th>3</th>\n",
       "      <td>Apes Banget! Sudah Buang Duit Rp 133 Juta, Eh ...</td>\n",
       "      <td>Bagai jatuh tertimpa tangga, itulah yang diras...</td>\n",
       "      <td>Kamis, 09 Des 2021 07:15 WIB</td>\n",
       "    </tr>\n",
       "    <tr>\n",
       "      <th>4</th>\n",
       "      <td>Pemerintah Mesti Matangkan Penerapan Sistem Pe...</td>\n",
       "      <td>Bencana alam yang tidak dapat diprediksikan ke...</td>\n",
       "      <td>Kamis, 09 Des 2021 07:15 WIB</td>\n",
       "    </tr>\n",
       "    <tr>\n",
       "      <th>5</th>\n",
       "      <td>WHO Minta Jangan Lelet dalam Hadapi Kemunculan...</td>\n",
       "      <td>Varian Omicron kini sudah terdeteksi di 57 neg...</td>\n",
       "      <td>Kamis, 09 Des 2021 07:06 WIB</td>\n",
       "    </tr>\n",
       "    <tr>\n",
       "      <th>6</th>\n",
       "      <td>Emak-emak ini Pelihara 'Tuyul' Kripto Dapat Rp...</td>\n",
       "      <td>Proses mining atau menambang aset kripto tenga...</td>\n",
       "      <td>Kamis, 09 Des 2021 06:41 WIB</td>\n",
       "    </tr>\n",
       "    <tr>\n",
       "      <th>8</th>\n",
       "      <td>Kabar Baik, 3 Dosis Vaksin Pfizer Bisa Netralk...</td>\n",
       "      <td>Kabar baik, 3 dosis vaksin Pfizer-BioNTech mam...</td>\n",
       "      <td>Kamis, 09 Des 2021 06:12 WIB</td>\n",
       "    </tr>\n",
       "    <tr>\n",
       "      <th>9</th>\n",
       "      <td>Kemenkes Bantah Omicron di Bekasi, Para Ahli M...</td>\n",
       "      <td>Sempat heboh, kabar varian Omicron B.1.1.529 d...</td>\n",
       "      <td>Kamis, 09 Des 2021 06:00 WIB</td>\n",
       "    </tr>\n",
       "    <tr>\n",
       "      <th>10</th>\n",
       "      <td>Usulan Epidemiolog Pakai 'Proxy Method' untuk ...</td>\n",
       "      <td>Epidemiolog Dicky Budiman mengusulkan pengguna...</td>\n",
       "      <td>Kamis, 09 Des 2021 05:24 WIB</td>\n",
       "    </tr>\n",
       "  </tbody>\n",
       "</table>\n",
       "</div>"
      ],
      "text/plain": [
       "                                                judul  \\\n",
       "0   Daftar 53 Negara Tingkat Ketahanan COVID-19 Te...   \n",
       "1   Boleh Agak Lega, WHO Ungkap Data Awal Riset Va...   \n",
       "2   Kasus COVID-19 Afsel Nanjak Nyaris 20 Ribu, Ce...   \n",
       "3   Apes Banget! Sudah Buang Duit Rp 133 Juta, Eh ...   \n",
       "4   Pemerintah Mesti Matangkan Penerapan Sistem Pe...   \n",
       "5   WHO Minta Jangan Lelet dalam Hadapi Kemunculan...   \n",
       "6   Emak-emak ini Pelihara 'Tuyul' Kripto Dapat Rp...   \n",
       "8   Kabar Baik, 3 Dosis Vaksin Pfizer Bisa Netralk...   \n",
       "9   Kemenkes Bantah Omicron di Bekasi, Para Ahli M...   \n",
       "10  Usulan Epidemiolog Pakai 'Proxy Method' untuk ...   \n",
       "\n",
       "                                                 teks  \\\n",
       "0   Belum lama ini, media Bloomberg melakukan surv...   \n",
       "1   Organisasi Kesehatan Dunia (WHO) mengungkapkan...   \n",
       "2   Diserang Corona B.1.1.529, Afrika Selatan mela...   \n",
       "3   Bagai jatuh tertimpa tangga, itulah yang diras...   \n",
       "4   Bencana alam yang tidak dapat diprediksikan ke...   \n",
       "5   Varian Omicron kini sudah terdeteksi di 57 neg...   \n",
       "6   Proses mining atau menambang aset kripto tenga...   \n",
       "8   Kabar baik, 3 dosis vaksin Pfizer-BioNTech mam...   \n",
       "9   Sempat heboh, kabar varian Omicron B.1.1.529 d...   \n",
       "10  Epidemiolog Dicky Budiman mengusulkan pengguna...   \n",
       "\n",
       "                         tanggal  \n",
       "0   Kamis, 09 Des 2021 08:30 WIB  \n",
       "1   Kamis, 09 Des 2021 08:00 WIB  \n",
       "2   Kamis, 09 Des 2021 07:34 WIB  \n",
       "3   Kamis, 09 Des 2021 07:15 WIB  \n",
       "4   Kamis, 09 Des 2021 07:15 WIB  \n",
       "5   Kamis, 09 Des 2021 07:06 WIB  \n",
       "6   Kamis, 09 Des 2021 06:41 WIB  \n",
       "8   Kamis, 09 Des 2021 06:12 WIB  \n",
       "9   Kamis, 09 Des 2021 06:00 WIB  \n",
       "10  Kamis, 09 Des 2021 05:24 WIB  "
      ]
     },
     "execution_count": 17,
     "metadata": {},
     "output_type": "execute_result"
    }
   ],
   "source": [
    "data.head(10)"
   ]
  },
  {
   "cell_type": "code",
   "execution_count": 16,
   "id": "ef217d9f",
   "metadata": {},
   "outputs": [
    {
     "data": {
      "text/plain": [
       "judul      0\n",
       "teks       0\n",
       "tanggal    0\n",
       "dtype: int64"
      ]
     },
     "execution_count": 16,
     "metadata": {},
     "output_type": "execute_result"
    }
   ],
   "source": [
    "data.isnull().sum()"
   ]
  },
  {
   "cell_type": "code",
   "execution_count": null,
   "id": "904ec8b4",
   "metadata": {},
   "outputs": [],
   "source": []
  }
 ],
 "metadata": {
  "kernelspec": {
   "display_name": "Python 3",
   "language": "python",
   "name": "python3"
  },
  "language_info": {
   "codemirror_mode": {
    "name": "ipython",
    "version": 3
   },
   "file_extension": ".py",
   "mimetype": "text/x-python",
   "name": "python",
   "nbconvert_exporter": "python",
   "pygments_lexer": "ipython3",
   "version": "3.8.5"
  }
 },
 "nbformat": 4,
 "nbformat_minor": 5
}
