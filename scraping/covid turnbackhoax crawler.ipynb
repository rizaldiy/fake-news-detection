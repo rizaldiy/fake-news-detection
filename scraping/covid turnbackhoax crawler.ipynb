{
 "cells": [
  {
   "cell_type": "code",
   "execution_count": 1,
   "metadata": {},
   "outputs": [],
   "source": [
    "import pandas as pd\n",
    "import numpy as np\n",
    "import requests\n",
    "from bs4 import BeautifulSoup as bs\n",
    "import re\n",
    "from datetime import datetime"
   ]
  },
  {
   "cell_type": "code",
   "execution_count": 2,
   "metadata": {},
   "outputs": [],
   "source": [
    "titles = []\n",
    "links = []\n",
    "dates = []\n",
    "page = 1\n",
    "\n",
    "while (page <= 67):\n",
    "    \n",
    "    url = requests.get(f\"https://turnbackhoax.id/page/{page}/?s=COVID\")\n",
    "    soup = bs(url.text, 'lxml')\n",
    "    posts = soup.find_all('div', class_='mh-loop mh-content')\n",
    "        \n",
    "    for post in posts:\n",
    "        articles =post.find_all('div', class_='mh-loop-content mh-clearfix')\n",
    "        for article in articles:\n",
    "            date_cont = article.find_all('div', class_ = 'mh-meta mh-loop-meta')\n",
    "            for date_i in date_cont:\n",
    "                date_cont2 = date_i.find('span', class_='mh-meta-date updated')\n",
    "                dates.append(date_cont2.text.strip())\n",
    "            title = article.find('h3', class_ ='entry-title mh-loop-title')\n",
    "            titles.append(title.text.strip())\n",
    "            for a_tag in title.find_all('a'):\n",
    "                link = a_tag['href']\n",
    "                links.append(link)\n",
    "        \n",
    "    page = page + 1\n",
    "        "
   ]
  },
  {
   "cell_type": "code",
   "execution_count": 3,
   "metadata": {},
   "outputs": [
    {
     "data": {
      "text/plain": [
       "['[SALAH] Vaksin covid-19 fungsinya untuk mengontrol manusia bukan untuk kesehatan',\n",
       " '[SALAH] Cacar Monyet Disebabkan dari Efek Samping Vaksin Covid-19 AstraZeneca',\n",
       " '[SALAH] “Studi CDC Mengonfirmasi Kekebalan Alami Lebih Kuat Daripada Vaksin COVID-19”',\n",
       " '[SALAH] Justin Bieber Mengatakan Kelumpuhan Wajahnya Disebabkan Oleh Vaksin Covid-19',\n",
       " '[SALAH] Vaksin Covid-19 Dapat Sebabkan AIDS Sampai Cacar Monyet',\n",
       " '[SALAH] Militer Amerika Menemukan Pestisida dalam Vaksin Covid-19 Moderna',\n",
       " '[SALAH] Video “Ade Armando Bongkar Rahasia Sejak Awal COVID-19 sampai Juni 2021 Sudah 14 Juta Tentara Masuk Indonesia”',\n",
       " '[SALAH] Bantuan Voucer Pulsa Senilai Rp2 Juta dari BSSN (Badan Siber Dan Sandi Negara) Untuk Masyarakat Terdampak Covid-19',\n",
       " '[SALAH] Moderna Memproduksi Virus dan Vaksin Covid-19 Sebelum Pandemi Terjadi',\n",
       " '[SALAH] Putusan Mahkamah Agung Republik Indonesia Nomor 31 P/HUM/2022 menyatakan Pandemi Covid-19 telah berakhir',\n",
       " '[SALAH] Vaksin Booster Covid-19 Dapat Menyebabkan AIDS',\n",
       " '[SALAH] Vaksin COVID-19 Mengandung Luciferase Dan Menjadi Alat Pelacak',\n",
       " '[SALAH] Tiga Orang China Yang Terpapar Varian Baru dari India Tidak Dapat Dideteksi Dengan Alat Test Covid-19 Biasa',\n",
       " '[SALAH] “Jadi Covid adalah tidak natural tapi rekayasa si laboratorium Amerika Serikat di Ukraina untuk senjata biologi”',\n",
       " '[SALAH]: Kulit Bayi Baru Lahir Melepuh Karena Ibu Vaksin Covid-19 Saat Hamil',\n",
       " '[SALAH] Covid 19 Meningkat hanya Saat Ibadah Umat Islam',\n",
       " '[SALAH] “Covid-19 dinyatakan dicabut dan dinyatakan tidak berlaku dengan surat edaran satgas SE Satgas No 9/2022”',\n",
       " '[SALAH] Ilmuwan Jerman Mengumumkan bahwa Berkumur dengan Air Garam dapat Menghilangkan Virus Covid-19',\n",
       " '[SALAH] Vaksin Covid 19 Tidak Berguna, karena Bermutasi menjadi Ribuan Varian Covid Baru',\n",
       " '[SALAH] Anjuran Ahli Virologi Agar Penerima Vaksin Dosis Ketiga Tes HIV Karena Vaksin Covid Menyebabkan HIV']"
      ]
     },
     "execution_count": 3,
     "metadata": {},
     "output_type": "execute_result"
    }
   ],
   "source": [
    "titles[0:20]"
   ]
  },
  {
   "cell_type": "code",
   "execution_count": 4,
   "metadata": {},
   "outputs": [
    {
     "data": {
      "text/plain": [
       "1335"
      ]
     },
     "execution_count": 4,
     "metadata": {},
     "output_type": "execute_result"
    }
   ],
   "source": [
    "len(links)"
   ]
  },
  {
   "cell_type": "code",
   "execution_count": 5,
   "metadata": {
    "scrolled": false
   },
   "outputs": [],
   "source": [
    "# url = requests.get(\"https://turnbackhoax.id/?s=COVID\")\n",
    "# soup = BeautifulSoup(url.text, 'lxml')\n",
    "\n",
    "news_texts = []\n",
    "for link in links:\n",
    "    response = requests.get(link)\n",
    "    soup = bs(response.text, 'lxml')\n",
    "    main_cont = soup.find_all('div', class_='mh-content')\n",
    "    for m in main_cont:\n",
    "        p_cont= m.find('div', class_='entry-content mh-clearfix')\n",
    "        find_p = p_cont.find_all('p')\n",
    "        list_paragraphs=[]\n",
    "        for p in range(len(find_p)):\n",
    "            paragraph = find_p[p].get_text()\n",
    "            list_paragraphs.append(paragraph)\n",
    "            final_article = \" \".join(list_paragraphs)\n",
    "        news_texts.append(final_article)\n",
    "#         now = datetime.now()\n",
    "#         date_str = now.strftime(\"%d/%m/%Y %H:%M:%S\")\n",
    "#         dates.append(date_str)\n",
    "\n"
   ]
  },
  {
   "cell_type": "code",
   "execution_count": 6,
   "metadata": {},
   "outputs": [],
   "source": [
    "data_col = {'Title': titles, 'Text': news_texts, 'Date': dates}\n",
    "data = pd.DataFrame(data_col)\n",
    "data.to_csv('C:/Users/zaliz/OneDrive/Desktop/scraping baru/crawl_tbh.csv', index=False)"
   ]
  },
  {
   "cell_type": "code",
   "execution_count": 7,
   "metadata": {},
   "outputs": [
    {
     "data": {
      "text/html": [
       "<div>\n",
       "<style scoped>\n",
       "    .dataframe tbody tr th:only-of-type {\n",
       "        vertical-align: middle;\n",
       "    }\n",
       "\n",
       "    .dataframe tbody tr th {\n",
       "        vertical-align: top;\n",
       "    }\n",
       "\n",
       "    .dataframe thead th {\n",
       "        text-align: right;\n",
       "    }\n",
       "</style>\n",
       "<table border=\"1\" class=\"dataframe\">\n",
       "  <thead>\n",
       "    <tr style=\"text-align: right;\">\n",
       "      <th></th>\n",
       "      <th>Title</th>\n",
       "      <th>Text</th>\n",
       "      <th>Date</th>\n",
       "    </tr>\n",
       "  </thead>\n",
       "  <tbody>\n",
       "    <tr>\n",
       "      <th>0</th>\n",
       "      <td>[SALAH] Vaksin covid-19 fungsinya untuk mengon...</td>\n",
       "      <td>Hasil periksa fakta Arief Putra Ramadhan. Spes...</td>\n",
       "      <td>Juli 19, 2022</td>\n",
       "    </tr>\n",
       "    <tr>\n",
       "      <th>1</th>\n",
       "      <td>[SALAH] Cacar Monyet Disebabkan dari Efek Samp...</td>\n",
       "      <td>Hasil periksa fakta Fathia IS.  Klaim tersebut...</td>\n",
       "      <td>Juli 16, 2022</td>\n",
       "    </tr>\n",
       "    <tr>\n",
       "      <th>2</th>\n",
       "      <td>[SALAH] “Studi CDC Mengonfirmasi Kekebalan Ala...</td>\n",
       "      <td>Hasil Periksa Fakta Ani Nur MR Informasi Palsu...</td>\n",
       "      <td>Juni 28, 2022</td>\n",
       "    </tr>\n",
       "    <tr>\n",
       "      <th>3</th>\n",
       "      <td>[SALAH] Justin Bieber Mengatakan Kelumpuhan Wa...</td>\n",
       "      <td>Hasil periksa fakta Fathia IS.  Klaim tersebut...</td>\n",
       "      <td>Juni 23, 2022</td>\n",
       "    </tr>\n",
       "    <tr>\n",
       "      <th>4</th>\n",
       "      <td>[SALAH] Vaksin Covid-19 Dapat Sebabkan AIDS Sa...</td>\n",
       "      <td>Hasil Periksa Fakta Gabriela Nauli (Universita...</td>\n",
       "      <td>Mei 31, 2022</td>\n",
       "    </tr>\n",
       "    <tr>\n",
       "      <th>5</th>\n",
       "      <td>[SALAH] Militer Amerika Menemukan Pestisida da...</td>\n",
       "      <td>Hasil periksa fakta Fathia IS.  Klaim tersebut...</td>\n",
       "      <td>Mei 29, 2022</td>\n",
       "    </tr>\n",
       "    <tr>\n",
       "      <th>6</th>\n",
       "      <td>[SALAH] Video “Ade Armando Bongkar Rahasia Sej...</td>\n",
       "      <td>Faktanya, video tersebut dipotong sehingga Ade...</td>\n",
       "      <td>April 29, 2022</td>\n",
       "    </tr>\n",
       "    <tr>\n",
       "      <th>7</th>\n",
       "      <td>[SALAH] Bantuan Voucer Pulsa Senilai Rp2 Juta ...</td>\n",
       "      <td>Hasil Periksa Fakta Novita Kusuma Wardhani. In...</td>\n",
       "      <td>April 28, 2022</td>\n",
       "    </tr>\n",
       "    <tr>\n",
       "      <th>8</th>\n",
       "      <td>[SALAH] Moderna Memproduksi Virus dan Vaksin C...</td>\n",
       "      <td>Hasil periksa fakta Ari Dwi Prasetyo. Beredar ...</td>\n",
       "      <td>April 27, 2022</td>\n",
       "    </tr>\n",
       "    <tr>\n",
       "      <th>9</th>\n",
       "      <td>[SALAH] Putusan Mahkamah Agung Republik Indone...</td>\n",
       "      <td>Hasil periksa fakta Riza Dwi (Anggota Tim Kali...</td>\n",
       "      <td>April 26, 2022</td>\n",
       "    </tr>\n",
       "  </tbody>\n",
       "</table>\n",
       "</div>"
      ],
      "text/plain": [
       "                                               Title  \\\n",
       "0  [SALAH] Vaksin covid-19 fungsinya untuk mengon...   \n",
       "1  [SALAH] Cacar Monyet Disebabkan dari Efek Samp...   \n",
       "2  [SALAH] “Studi CDC Mengonfirmasi Kekebalan Ala...   \n",
       "3  [SALAH] Justin Bieber Mengatakan Kelumpuhan Wa...   \n",
       "4  [SALAH] Vaksin Covid-19 Dapat Sebabkan AIDS Sa...   \n",
       "5  [SALAH] Militer Amerika Menemukan Pestisida da...   \n",
       "6  [SALAH] Video “Ade Armando Bongkar Rahasia Sej...   \n",
       "7  [SALAH] Bantuan Voucer Pulsa Senilai Rp2 Juta ...   \n",
       "8  [SALAH] Moderna Memproduksi Virus dan Vaksin C...   \n",
       "9  [SALAH] Putusan Mahkamah Agung Republik Indone...   \n",
       "\n",
       "                                                Text            Date  \n",
       "0  Hasil periksa fakta Arief Putra Ramadhan. Spes...   Juli 19, 2022  \n",
       "1  Hasil periksa fakta Fathia IS.  Klaim tersebut...   Juli 16, 2022  \n",
       "2  Hasil Periksa Fakta Ani Nur MR Informasi Palsu...   Juni 28, 2022  \n",
       "3  Hasil periksa fakta Fathia IS.  Klaim tersebut...   Juni 23, 2022  \n",
       "4  Hasil Periksa Fakta Gabriela Nauli (Universita...    Mei 31, 2022  \n",
       "5  Hasil periksa fakta Fathia IS.  Klaim tersebut...    Mei 29, 2022  \n",
       "6  Faktanya, video tersebut dipotong sehingga Ade...  April 29, 2022  \n",
       "7  Hasil Periksa Fakta Novita Kusuma Wardhani. In...  April 28, 2022  \n",
       "8  Hasil periksa fakta Ari Dwi Prasetyo. Beredar ...  April 27, 2022  \n",
       "9  Hasil periksa fakta Riza Dwi (Anggota Tim Kali...  April 26, 2022  "
      ]
     },
     "execution_count": 7,
     "metadata": {},
     "output_type": "execute_result"
    }
   ],
   "source": [
    "dt = pd.read_csv('C:/Users/zaliz/OneDrive/Desktop/scraping baru/crawl_tbh.csv')\n",
    "dt.head(10)"
   ]
  },
  {
   "cell_type": "code",
   "execution_count": null,
   "metadata": {},
   "outputs": [],
   "source": []
  }
 ],
 "metadata": {
  "kernelspec": {
   "display_name": "Python 3",
   "language": "python",
   "name": "python3"
  },
  "language_info": {
   "codemirror_mode": {
    "name": "ipython",
    "version": 3
   },
   "file_extension": ".py",
   "mimetype": "text/x-python",
   "name": "python",
   "nbconvert_exporter": "python",
   "pygments_lexer": "ipython3",
   "version": "3.8.5"
  }
 },
 "nbformat": 4,
 "nbformat_minor": 4
}
