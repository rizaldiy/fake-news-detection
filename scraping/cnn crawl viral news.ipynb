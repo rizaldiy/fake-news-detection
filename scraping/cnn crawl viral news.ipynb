{
 "cells": [
  {
   "cell_type": "code",
   "execution_count": 2,
   "id": "dc02f2ad",
   "metadata": {},
   "outputs": [],
   "source": [
    "import pandas as pd\n",
    "import requests\n",
    "from bs4 import BeautifulSoup as bs\n",
    "from selenium import webdriver\n",
    "import time\n",
    "from requests_html import HTMLSession"
   ]
  },
  {
   "cell_type": "code",
   "execution_count": 3,
   "id": "be4887be",
   "metadata": {},
   "outputs": [],
   "source": [
    "url = 'https://www.cnnindonesia.com/search?query=viral'\n",
    "links = []\n",
    "\n",
    "options = webdriver.ChromeOptions()\n",
    "pathToChromeDriver = \"C:/Program Files/Google/Chrome/Application/chromedriver.exe\"\n",
    "browser = webdriver.Chrome(executable_path=pathToChromeDriver,\n",
    "                           options=options)\n",
    "    \n",
    "try:\n",
    "    browser.get(url)\n",
    "    browser.implicitly_wait(10)\n",
    "    html = browser.page_source\n",
    "    \n",
    "    num_btn_click = 110\n",
    "    for i in range(1, num_btn_click):\n",
    "        nxt_btn = browser.find_element_by_xpath('//*[@id=\"content\"]/div/div[2]/section/div/div/div/a').click()\n",
    "        time.sleep(2)\n",
    "    \n",
    "    content = browser.find_element_by_class_name('media_rows')\n",
    "    for elt in content.find_elements_by_tag_name('article'):\n",
    "        \n",
    "        link = elt.find_element_by_tag_name('a')\n",
    "        href = link.get_attribute('href')\n",
    "        links.append(href)\n",
    "            \n",
    "            \n",
    "finally:\n",
    "    browser.quit()"
   ]
  },
  {
   "cell_type": "code",
   "execution_count": 4,
   "id": "d0a8674c",
   "metadata": {},
   "outputs": [
    {
     "data": {
      "text/plain": [
       "770"
      ]
     },
     "execution_count": 4,
     "metadata": {},
     "output_type": "execute_result"
    }
   ],
   "source": [
    "len(links)"
   ]
  },
  {
   "cell_type": "code",
   "execution_count": 5,
   "id": "f0468e51",
   "metadata": {},
   "outputs": [],
   "source": [
    "data = []\n",
    "\n",
    "for link in links:\n",
    "    url = requests.get(link)\n",
    "    soup = bs(url.text, 'lxml')\n",
    "    cont = soup.find('div', class_='content_detail')\n",
    "    title = cont.h1.get_text(strip=True) if cont.h1 else 'no title'\n",
    "    content = ' '.join([p.get_text().strip() for p in cont.select('p')]) if cont.p else 'no content'    \n",
    "\n",
    "    data.append({\n",
    "        'Title':title,\n",
    "        'Text':content\n",
    "    })    \n",
    "        "
   ]
  },
  {
   "cell_type": "code",
   "execution_count": 36,
   "id": "b6242342",
   "metadata": {},
   "outputs": [],
   "source": [
    "# cnn_dt = pd.read_csv('viralCnn_news.csv')\n",
    "# cnn_dt.head(10)"
   ]
  },
  {
   "cell_type": "code",
   "execution_count": 6,
   "id": "f6fd4910",
   "metadata": {},
   "outputs": [],
   "source": [
    "data = pd.DataFrame(data)"
   ]
  },
  {
   "cell_type": "code",
   "execution_count": 7,
   "id": "5adb1085",
   "metadata": {},
   "outputs": [],
   "source": [
    "data.drop(data[data.Title == 'no title'].index, inplace=True)"
   ]
  },
  {
   "cell_type": "code",
   "execution_count": 8,
   "id": "7b8b68f1",
   "metadata": {},
   "outputs": [
    {
     "data": {
      "text/html": [
       "<div>\n",
       "<style scoped>\n",
       "    .dataframe tbody tr th:only-of-type {\n",
       "        vertical-align: middle;\n",
       "    }\n",
       "\n",
       "    .dataframe tbody tr th {\n",
       "        vertical-align: top;\n",
       "    }\n",
       "\n",
       "    .dataframe thead th {\n",
       "        text-align: right;\n",
       "    }\n",
       "</style>\n",
       "<table border=\"1\" class=\"dataframe\">\n",
       "  <thead>\n",
       "    <tr style=\"text-align: right;\">\n",
       "      <th></th>\n",
       "      <th>Title</th>\n",
       "      <th>Text</th>\n",
       "    </tr>\n",
       "  </thead>\n",
       "  <tbody>\n",
       "    <tr>\n",
       "      <th>0</th>\n",
       "      <td>Viral Cara Tidur ala Tentara, Diklaim Terlelap...</td>\n",
       "      <td>Selama beberapa waktu belakangan, viral cara t...</td>\n",
       "    </tr>\n",
       "    <tr>\n",
       "      <th>1</th>\n",
       "      <td>Ketum PBNU Panggil Ketua PCNU Bondowoso soal '...</td>\n",
       "      <td>Ketua Umum Pengurus Besar Nahdlatul Ulama (PBN...</td>\n",
       "    </tr>\n",
       "    <tr>\n",
       "      <th>2</th>\n",
       "      <td>Cari Hoegeng Baru, Kapolri Siapkan Penghargaan...</td>\n",
       "      <td>Kapolri Jenderal Listyo Sigit Prabowo akan mem...</td>\n",
       "    </tr>\n",
       "    <tr>\n",
       "      <th>3</th>\n",
       "      <td>Komunitas Mobil Mewah Akui Salah Bikin Dokumen...</td>\n",
       "      <td>Komunitas mobil mewah yang konvoinya di jalan ...</td>\n",
       "    </tr>\n",
       "    <tr>\n",
       "      <th>4</th>\n",
       "      <td>Advokat Azam Khan Minta Maaf Usai Sebut 'Monye...</td>\n",
       "      <td>Advokat Azam Khan meminta maaf kepada masyarak...</td>\n",
       "    </tr>\n",
       "    <tr>\n",
       "      <th>5</th>\n",
       "      <td>Kakek Tewas Dikeroyok di Pulogadung, 14 Orang ...</td>\n",
       "      <td>Polisi mengamankan total 14 orang diduga terli...</td>\n",
       "    </tr>\n",
       "    <tr>\n",
       "      <th>6</th>\n",
       "      <td>Viral Video Buku Nikah Sesama Jenis, Menag Seb...</td>\n",
       "      <td>Menteri Agama Yaqut Cholil Qoumas membantah pa...</td>\n",
       "    </tr>\n",
       "    <tr>\n",
       "      <th>7</th>\n",
       "      <td>Video Edy Mulyadi Viral, #WargaKalimantanBukan...</td>\n",
       "      <td>Tagar #WargaKalimantanBukanMonyet menjadi tren...</td>\n",
       "    </tr>\n",
       "    <tr>\n",
       "      <th>8</th>\n",
       "      <td>Sebut Kalimantan 'Tempat Jin Buang Anak', Edy ...</td>\n",
       "      <td>Puluhan warga Kalimantan Timur (Kaltim) melapo...</td>\n",
       "    </tr>\n",
       "    <tr>\n",
       "      <th>9</th>\n",
       "      <td>Polisi Selidiki Laporan Ujaran Kebencian soal ...</td>\n",
       "      <td>Polisi menerima laporan yang dibuat oleh Ketua...</td>\n",
       "    </tr>\n",
       "  </tbody>\n",
       "</table>\n",
       "</div>"
      ],
      "text/plain": [
       "                                               Title  \\\n",
       "0  Viral Cara Tidur ala Tentara, Diklaim Terlelap...   \n",
       "1  Ketum PBNU Panggil Ketua PCNU Bondowoso soal '...   \n",
       "2  Cari Hoegeng Baru, Kapolri Siapkan Penghargaan...   \n",
       "3  Komunitas Mobil Mewah Akui Salah Bikin Dokumen...   \n",
       "4  Advokat Azam Khan Minta Maaf Usai Sebut 'Monye...   \n",
       "5  Kakek Tewas Dikeroyok di Pulogadung, 14 Orang ...   \n",
       "6  Viral Video Buku Nikah Sesama Jenis, Menag Seb...   \n",
       "7  Video Edy Mulyadi Viral, #WargaKalimantanBukan...   \n",
       "8  Sebut Kalimantan 'Tempat Jin Buang Anak', Edy ...   \n",
       "9  Polisi Selidiki Laporan Ujaran Kebencian soal ...   \n",
       "\n",
       "                                                Text  \n",
       "0  Selama beberapa waktu belakangan, viral cara t...  \n",
       "1  Ketua Umum Pengurus Besar Nahdlatul Ulama (PBN...  \n",
       "2  Kapolri Jenderal Listyo Sigit Prabowo akan mem...  \n",
       "3  Komunitas mobil mewah yang konvoinya di jalan ...  \n",
       "4  Advokat Azam Khan meminta maaf kepada masyarak...  \n",
       "5  Polisi mengamankan total 14 orang diduga terli...  \n",
       "6  Menteri Agama Yaqut Cholil Qoumas membantah pa...  \n",
       "7  Tagar #WargaKalimantanBukanMonyet menjadi tren...  \n",
       "8  Puluhan warga Kalimantan Timur (Kaltim) melapo...  \n",
       "9  Polisi menerima laporan yang dibuat oleh Ketua...  "
      ]
     },
     "execution_count": 8,
     "metadata": {},
     "output_type": "execute_result"
    }
   ],
   "source": [
    "data.head(10)"
   ]
  },
  {
   "cell_type": "code",
   "execution_count": 9,
   "id": "bd9ea964",
   "metadata": {},
   "outputs": [],
   "source": [
    "data.drop(data[data.Text == 'no content'].index, inplace=True)"
   ]
  },
  {
   "cell_type": "code",
   "execution_count": 10,
   "id": "f5a7b282",
   "metadata": {},
   "outputs": [
    {
     "data": {
      "text/html": [
       "<div>\n",
       "<style scoped>\n",
       "    .dataframe tbody tr th:only-of-type {\n",
       "        vertical-align: middle;\n",
       "    }\n",
       "\n",
       "    .dataframe tbody tr th {\n",
       "        vertical-align: top;\n",
       "    }\n",
       "\n",
       "    .dataframe thead th {\n",
       "        text-align: right;\n",
       "    }\n",
       "</style>\n",
       "<table border=\"1\" class=\"dataframe\">\n",
       "  <thead>\n",
       "    <tr style=\"text-align: right;\">\n",
       "      <th></th>\n",
       "      <th>Title</th>\n",
       "      <th>Text</th>\n",
       "    </tr>\n",
       "  </thead>\n",
       "  <tbody>\n",
       "    <tr>\n",
       "      <th>0</th>\n",
       "      <td>Viral Cara Tidur ala Tentara, Diklaim Terlelap...</td>\n",
       "      <td>Selama beberapa waktu belakangan, viral cara t...</td>\n",
       "    </tr>\n",
       "    <tr>\n",
       "      <th>1</th>\n",
       "      <td>Ketum PBNU Panggil Ketua PCNU Bondowoso soal '...</td>\n",
       "      <td>Ketua Umum Pengurus Besar Nahdlatul Ulama (PBN...</td>\n",
       "    </tr>\n",
       "    <tr>\n",
       "      <th>2</th>\n",
       "      <td>Cari Hoegeng Baru, Kapolri Siapkan Penghargaan...</td>\n",
       "      <td>Kapolri Jenderal Listyo Sigit Prabowo akan mem...</td>\n",
       "    </tr>\n",
       "    <tr>\n",
       "      <th>3</th>\n",
       "      <td>Komunitas Mobil Mewah Akui Salah Bikin Dokumen...</td>\n",
       "      <td>Komunitas mobil mewah yang konvoinya di jalan ...</td>\n",
       "    </tr>\n",
       "    <tr>\n",
       "      <th>4</th>\n",
       "      <td>Advokat Azam Khan Minta Maaf Usai Sebut 'Monye...</td>\n",
       "      <td>Advokat Azam Khan meminta maaf kepada masyarak...</td>\n",
       "    </tr>\n",
       "    <tr>\n",
       "      <th>5</th>\n",
       "      <td>Kakek Tewas Dikeroyok di Pulogadung, 14 Orang ...</td>\n",
       "      <td>Polisi mengamankan total 14 orang diduga terli...</td>\n",
       "    </tr>\n",
       "    <tr>\n",
       "      <th>6</th>\n",
       "      <td>Viral Video Buku Nikah Sesama Jenis, Menag Seb...</td>\n",
       "      <td>Menteri Agama Yaqut Cholil Qoumas membantah pa...</td>\n",
       "    </tr>\n",
       "    <tr>\n",
       "      <th>7</th>\n",
       "      <td>Video Edy Mulyadi Viral, #WargaKalimantanBukan...</td>\n",
       "      <td>Tagar #WargaKalimantanBukanMonyet menjadi tren...</td>\n",
       "    </tr>\n",
       "    <tr>\n",
       "      <th>8</th>\n",
       "      <td>Sebut Kalimantan 'Tempat Jin Buang Anak', Edy ...</td>\n",
       "      <td>Puluhan warga Kalimantan Timur (Kaltim) melapo...</td>\n",
       "    </tr>\n",
       "    <tr>\n",
       "      <th>9</th>\n",
       "      <td>Polisi Selidiki Laporan Ujaran Kebencian soal ...</td>\n",
       "      <td>Polisi menerima laporan yang dibuat oleh Ketua...</td>\n",
       "    </tr>\n",
       "  </tbody>\n",
       "</table>\n",
       "</div>"
      ],
      "text/plain": [
       "                                               Title  \\\n",
       "0  Viral Cara Tidur ala Tentara, Diklaim Terlelap...   \n",
       "1  Ketum PBNU Panggil Ketua PCNU Bondowoso soal '...   \n",
       "2  Cari Hoegeng Baru, Kapolri Siapkan Penghargaan...   \n",
       "3  Komunitas Mobil Mewah Akui Salah Bikin Dokumen...   \n",
       "4  Advokat Azam Khan Minta Maaf Usai Sebut 'Monye...   \n",
       "5  Kakek Tewas Dikeroyok di Pulogadung, 14 Orang ...   \n",
       "6  Viral Video Buku Nikah Sesama Jenis, Menag Seb...   \n",
       "7  Video Edy Mulyadi Viral, #WargaKalimantanBukan...   \n",
       "8  Sebut Kalimantan 'Tempat Jin Buang Anak', Edy ...   \n",
       "9  Polisi Selidiki Laporan Ujaran Kebencian soal ...   \n",
       "\n",
       "                                                Text  \n",
       "0  Selama beberapa waktu belakangan, viral cara t...  \n",
       "1  Ketua Umum Pengurus Besar Nahdlatul Ulama (PBN...  \n",
       "2  Kapolri Jenderal Listyo Sigit Prabowo akan mem...  \n",
       "3  Komunitas mobil mewah yang konvoinya di jalan ...  \n",
       "4  Advokat Azam Khan meminta maaf kepada masyarak...  \n",
       "5  Polisi mengamankan total 14 orang diduga terli...  \n",
       "6  Menteri Agama Yaqut Cholil Qoumas membantah pa...  \n",
       "7  Tagar #WargaKalimantanBukanMonyet menjadi tren...  \n",
       "8  Puluhan warga Kalimantan Timur (Kaltim) melapo...  \n",
       "9  Polisi menerima laporan yang dibuat oleh Ketua...  "
      ]
     },
     "execution_count": 10,
     "metadata": {},
     "output_type": "execute_result"
    }
   ],
   "source": [
    "data.head(10)"
   ]
  },
  {
   "cell_type": "code",
   "execution_count": 11,
   "id": "1cece74c",
   "metadata": {},
   "outputs": [
    {
     "data": {
      "text/plain": [
       "676"
      ]
     },
     "execution_count": 11,
     "metadata": {},
     "output_type": "execute_result"
    }
   ],
   "source": [
    "len(data)"
   ]
  },
  {
   "cell_type": "code",
   "execution_count": 12,
   "id": "dc9a39d3",
   "metadata": {},
   "outputs": [],
   "source": [
    "data.to_csv('viralCnn_news.csv', index=False)"
   ]
  },
  {
   "cell_type": "code",
   "execution_count": null,
   "id": "7e12d092",
   "metadata": {},
   "outputs": [],
   "source": []
  }
 ],
 "metadata": {
  "kernelspec": {
   "display_name": "Python 3",
   "language": "python",
   "name": "python3"
  },
  "language_info": {
   "codemirror_mode": {
    "name": "ipython",
    "version": 3
   },
   "file_extension": ".py",
   "mimetype": "text/x-python",
   "name": "python",
   "nbconvert_exporter": "python",
   "pygments_lexer": "ipython3",
   "version": "3.8.5"
  }
 },
 "nbformat": 4,
 "nbformat_minor": 5
}
