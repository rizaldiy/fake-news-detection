{
 "cells": [
  {
   "cell_type": "code",
   "execution_count": 1,
   "id": "8832a74d",
   "metadata": {},
   "outputs": [],
   "source": [
    "import pandas as pd\n",
    "import requests\n",
    "from bs4 import BeautifulSoup"
   ]
  },
  {
   "cell_type": "code",
   "execution_count": 4,
   "id": "43944082",
   "metadata": {},
   "outputs": [],
   "source": [
    "titles = []\n",
    "links = []\n",
    "page = 1\n",
    "\n",
    "while (page <= 80):\n",
    "    \n",
    "    url = requests.get(f\"https://detik.com/search/searchall?query=viral&siteid=2&sortby=time&page={page}\")\n",
    "    soup = BeautifulSoup(url.text, 'lxml')\n",
    "    for article in soup.select('div.list-berita article'):\n",
    "        news_title = article.find('h2', class_='title').text\n",
    "        titles.append(news_title)\n",
    "        link = article.find('a')['href']\n",
    "        links.append(link)\n",
    "\n",
    "    page += 1"
   ]
  },
  {
   "cell_type": "code",
   "execution_count": 13,
   "id": "e8a73b09",
   "metadata": {},
   "outputs": [
    {
     "data": {
      "text/plain": [
       "630"
      ]
     },
     "execution_count": 13,
     "metadata": {},
     "output_type": "execute_result"
    }
   ],
   "source": [
    "len(links)"
   ]
  },
  {
   "cell_type": "code",
   "execution_count": null,
   "id": "4ee8db1c",
   "metadata": {},
   "outputs": [],
   "source": [
    "news_content = []\n",
    "\n",
    "for link in links:\n",
    "    response = requests.get(link)\n",
    "    soup_link = BeautifulSoup(response.text, 'lxml')\n",
    "    soup_text = soup_link.find_all('div', class_='itp_bodycontent')\n",
    "    soup_Clink = soup_link.select('a.detail__anchor-numb')      \n",
    "    if soup_text:\n",
    "        for p_text in soup_text:\n",
    "            find_p = p_text.find_all('p')\n",
    "            list_paragraphs = []\n",
    "            for p in range(len(find_p)):\n",
    "                paragraph = find_p[p].get_text()\n",
    "                list_paragraphs.append(paragraph)\n",
    "                final_text = \" \".join(list_paragraphs)\n",
    "            news_content.append(final_text)\n",
    "    else:\n",
    "        news_content.append('no content')"
   ]
  },
  {
   "cell_type": "code",
   "execution_count": 7,
   "id": "583e2106",
   "metadata": {},
   "outputs": [],
   "source": [
    "data_col = {'Title': titles, 'Text': news_content}\n",
    "data = pd.DataFrame(data_col)"
   ]
  },
  {
   "cell_type": "code",
   "execution_count": 8,
   "id": "5068ba47",
   "metadata": {},
   "outputs": [
    {
     "data": {
      "text/html": [
       "<div>\n",
       "<style scoped>\n",
       "    .dataframe tbody tr th:only-of-type {\n",
       "        vertical-align: middle;\n",
       "    }\n",
       "\n",
       "    .dataframe tbody tr th {\n",
       "        vertical-align: top;\n",
       "    }\n",
       "\n",
       "    .dataframe thead th {\n",
       "        text-align: right;\n",
       "    }\n",
       "</style>\n",
       "<table border=\"1\" class=\"dataframe\">\n",
       "  <thead>\n",
       "    <tr style=\"text-align: right;\">\n",
       "      <th></th>\n",
       "      <th>Title</th>\n",
       "      <th>Text</th>\n",
       "    </tr>\n",
       "  </thead>\n",
       "  <tbody>\n",
       "    <tr>\n",
       "      <th>0</th>\n",
       "      <td>Lansia di Jaktim Diteriaki Maling hingga Tewas...</td>\n",
       "      <td>Polisi masih menyelidiki kasus viral lansia ya...</td>\n",
       "    </tr>\n",
       "    <tr>\n",
       "      <th>1</th>\n",
       "      <td>Cara Membuat EmojiMIx yang Viral di TikTok Pak...</td>\n",
       "      <td>EmojiMix tengah viral di TikTok. Apa itu Emoji...</td>\n",
       "    </tr>\n",
       "    <tr>\n",
       "      <th>2</th>\n",
       "      <td>Kemendag Buka Suara soal Supermarket Jual Miny...</td>\n",
       "      <td>Kementerian Perdagangan (Kemendag) telah menga...</td>\n",
       "    </tr>\n",
       "    <tr>\n",
       "      <th>3</th>\n",
       "      <td>Poster Haikal Hassan Dibantah Yonif Para Raide...</td>\n",
       "      <td>TNI Angkatan Darat (AD) menegaskan poster yang...</td>\n",
       "    </tr>\n",
       "    <tr>\n",
       "      <th>4</th>\n",
       "      <td>Dekorasi Pernikahan Rp 500 Juta Viral bak Pame...</td>\n",
       "      <td>Momen pernikahan akan dikenang seumur hidup. M...</td>\n",
       "    </tr>\n",
       "    <tr>\n",
       "      <th>5</th>\n",
       "      <td>Kopi Hitam dan Dark Chocolate Disebut Lebih Se...</td>\n",
       "      <td>Kopi hitam dan dark chocolate sangat dianjurka...</td>\n",
       "    </tr>\n",
       "    <tr>\n",
       "      <th>6</th>\n",
       "      <td>7 Fakta Heboh Pemotor Santuy Lawan Arah di Jal...</td>\n",
       "      <td>Aksi nekat pemotor wanita itu mulanya diunggah...</td>\n",
       "    </tr>\n",
       "    <tr>\n",
       "      <th>7</th>\n",
       "      <td>Kata Haikal Hassan Soal Viral Dirinya Diusir S...</td>\n",
       "      <td>no content</td>\n",
       "    </tr>\n",
       "    <tr>\n",
       "      <th>8</th>\n",
       "      <td>Momen Tunangan Aprilia Manganang, Dulu Atlet V...</td>\n",
       "      <td>Aprilia Manganang atau yang kini sudah bergant...</td>\n",
       "    </tr>\n",
       "    <tr>\n",
       "      <th>9</th>\n",
       "      <td>Viral Pemuda di Surabaya Tawuran Bawa Sajam-Me...</td>\n",
       "      <td>Dalam video itu, tampak gerombolan pemuda deng...</td>\n",
       "    </tr>\n",
       "  </tbody>\n",
       "</table>\n",
       "</div>"
      ],
      "text/plain": [
       "                                               Title  \\\n",
       "0  Lansia di Jaktim Diteriaki Maling hingga Tewas...   \n",
       "1  Cara Membuat EmojiMIx yang Viral di TikTok Pak...   \n",
       "2  Kemendag Buka Suara soal Supermarket Jual Miny...   \n",
       "3  Poster Haikal Hassan Dibantah Yonif Para Raide...   \n",
       "4  Dekorasi Pernikahan Rp 500 Juta Viral bak Pame...   \n",
       "5  Kopi Hitam dan Dark Chocolate Disebut Lebih Se...   \n",
       "6  7 Fakta Heboh Pemotor Santuy Lawan Arah di Jal...   \n",
       "7  Kata Haikal Hassan Soal Viral Dirinya Diusir S...   \n",
       "8  Momen Tunangan Aprilia Manganang, Dulu Atlet V...   \n",
       "9  Viral Pemuda di Surabaya Tawuran Bawa Sajam-Me...   \n",
       "\n",
       "                                                Text  \n",
       "0  Polisi masih menyelidiki kasus viral lansia ya...  \n",
       "1  EmojiMix tengah viral di TikTok. Apa itu Emoji...  \n",
       "2  Kementerian Perdagangan (Kemendag) telah menga...  \n",
       "3  TNI Angkatan Darat (AD) menegaskan poster yang...  \n",
       "4  Momen pernikahan akan dikenang seumur hidup. M...  \n",
       "5  Kopi hitam dan dark chocolate sangat dianjurka...  \n",
       "6  Aksi nekat pemotor wanita itu mulanya diunggah...  \n",
       "7                                         no content  \n",
       "8  Aprilia Manganang atau yang kini sudah bergant...  \n",
       "9  Dalam video itu, tampak gerombolan pemuda deng...  "
      ]
     },
     "execution_count": 8,
     "metadata": {},
     "output_type": "execute_result"
    }
   ],
   "source": [
    "data.head(10)"
   ]
  },
  {
   "cell_type": "code",
   "execution_count": 10,
   "id": "e6e8e8bc",
   "metadata": {},
   "outputs": [],
   "source": [
    "data.drop(data[data.Text == 'no content'].index, inplace=True)"
   ]
  },
  {
   "cell_type": "code",
   "execution_count": 11,
   "id": "1b148467",
   "metadata": {},
   "outputs": [
    {
     "data": {
      "text/html": [
       "<div>\n",
       "<style scoped>\n",
       "    .dataframe tbody tr th:only-of-type {\n",
       "        vertical-align: middle;\n",
       "    }\n",
       "\n",
       "    .dataframe tbody tr th {\n",
       "        vertical-align: top;\n",
       "    }\n",
       "\n",
       "    .dataframe thead th {\n",
       "        text-align: right;\n",
       "    }\n",
       "</style>\n",
       "<table border=\"1\" class=\"dataframe\">\n",
       "  <thead>\n",
       "    <tr style=\"text-align: right;\">\n",
       "      <th></th>\n",
       "      <th>Title</th>\n",
       "      <th>Text</th>\n",
       "    </tr>\n",
       "  </thead>\n",
       "  <tbody>\n",
       "    <tr>\n",
       "      <th>0</th>\n",
       "      <td>Lansia di Jaktim Diteriaki Maling hingga Tewas...</td>\n",
       "      <td>Polisi masih menyelidiki kasus viral lansia ya...</td>\n",
       "    </tr>\n",
       "    <tr>\n",
       "      <th>1</th>\n",
       "      <td>Cara Membuat EmojiMIx yang Viral di TikTok Pak...</td>\n",
       "      <td>EmojiMix tengah viral di TikTok. Apa itu Emoji...</td>\n",
       "    </tr>\n",
       "    <tr>\n",
       "      <th>2</th>\n",
       "      <td>Kemendag Buka Suara soal Supermarket Jual Miny...</td>\n",
       "      <td>Kementerian Perdagangan (Kemendag) telah menga...</td>\n",
       "    </tr>\n",
       "    <tr>\n",
       "      <th>3</th>\n",
       "      <td>Poster Haikal Hassan Dibantah Yonif Para Raide...</td>\n",
       "      <td>TNI Angkatan Darat (AD) menegaskan poster yang...</td>\n",
       "    </tr>\n",
       "    <tr>\n",
       "      <th>4</th>\n",
       "      <td>Dekorasi Pernikahan Rp 500 Juta Viral bak Pame...</td>\n",
       "      <td>Momen pernikahan akan dikenang seumur hidup. M...</td>\n",
       "    </tr>\n",
       "    <tr>\n",
       "      <th>5</th>\n",
       "      <td>Kopi Hitam dan Dark Chocolate Disebut Lebih Se...</td>\n",
       "      <td>Kopi hitam dan dark chocolate sangat dianjurka...</td>\n",
       "    </tr>\n",
       "    <tr>\n",
       "      <th>6</th>\n",
       "      <td>7 Fakta Heboh Pemotor Santuy Lawan Arah di Jal...</td>\n",
       "      <td>Aksi nekat pemotor wanita itu mulanya diunggah...</td>\n",
       "    </tr>\n",
       "    <tr>\n",
       "      <th>8</th>\n",
       "      <td>Momen Tunangan Aprilia Manganang, Dulu Atlet V...</td>\n",
       "      <td>Aprilia Manganang atau yang kini sudah bergant...</td>\n",
       "    </tr>\n",
       "    <tr>\n",
       "      <th>9</th>\n",
       "      <td>Viral Pemuda di Surabaya Tawuran Bawa Sajam-Me...</td>\n",
       "      <td>Dalam video itu, tampak gerombolan pemuda deng...</td>\n",
       "    </tr>\n",
       "    <tr>\n",
       "      <th>10</th>\n",
       "      <td>Edy Mulyadi Diduga Hina Lokasi IKN, Pengusaha ...</td>\n",
       "      <td>Nama Edy Mulyadi kembali menjadi sorotan usai ...</td>\n",
       "    </tr>\n",
       "  </tbody>\n",
       "</table>\n",
       "</div>"
      ],
      "text/plain": [
       "                                                Title  \\\n",
       "0   Lansia di Jaktim Diteriaki Maling hingga Tewas...   \n",
       "1   Cara Membuat EmojiMIx yang Viral di TikTok Pak...   \n",
       "2   Kemendag Buka Suara soal Supermarket Jual Miny...   \n",
       "3   Poster Haikal Hassan Dibantah Yonif Para Raide...   \n",
       "4   Dekorasi Pernikahan Rp 500 Juta Viral bak Pame...   \n",
       "5   Kopi Hitam dan Dark Chocolate Disebut Lebih Se...   \n",
       "6   7 Fakta Heboh Pemotor Santuy Lawan Arah di Jal...   \n",
       "8   Momen Tunangan Aprilia Manganang, Dulu Atlet V...   \n",
       "9   Viral Pemuda di Surabaya Tawuran Bawa Sajam-Me...   \n",
       "10  Edy Mulyadi Diduga Hina Lokasi IKN, Pengusaha ...   \n",
       "\n",
       "                                                 Text  \n",
       "0   Polisi masih menyelidiki kasus viral lansia ya...  \n",
       "1   EmojiMix tengah viral di TikTok. Apa itu Emoji...  \n",
       "2   Kementerian Perdagangan (Kemendag) telah menga...  \n",
       "3   TNI Angkatan Darat (AD) menegaskan poster yang...  \n",
       "4   Momen pernikahan akan dikenang seumur hidup. M...  \n",
       "5   Kopi hitam dan dark chocolate sangat dianjurka...  \n",
       "6   Aksi nekat pemotor wanita itu mulanya diunggah...  \n",
       "8   Aprilia Manganang atau yang kini sudah bergant...  \n",
       "9   Dalam video itu, tampak gerombolan pemuda deng...  \n",
       "10  Nama Edy Mulyadi kembali menjadi sorotan usai ...  "
      ]
     },
     "execution_count": 11,
     "metadata": {},
     "output_type": "execute_result"
    }
   ],
   "source": [
    "data.head(10)"
   ]
  },
  {
   "cell_type": "code",
   "execution_count": 12,
   "id": "3f6e626f",
   "metadata": {},
   "outputs": [],
   "source": [
    "data.to_csv('viralDetik.news.csv', index=False)"
   ]
  }
 ],
 "metadata": {
  "kernelspec": {
   "display_name": "Python 3",
   "language": "python",
   "name": "python3"
  },
  "language_info": {
   "codemirror_mode": {
    "name": "ipython",
    "version": 3
   },
   "file_extension": ".py",
   "mimetype": "text/x-python",
   "name": "python",
   "nbconvert_exporter": "python",
   "pygments_lexer": "ipython3",
   "version": "3.8.5"
  }
 },
 "nbformat": 4,
 "nbformat_minor": 5
}
