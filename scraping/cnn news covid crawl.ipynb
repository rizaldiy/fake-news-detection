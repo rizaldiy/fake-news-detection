{
 "cells": [
  {
   "cell_type": "code",
   "execution_count": 1,
   "id": "2295023d",
   "metadata": {},
   "outputs": [],
   "source": [
    "import pandas as pd\n",
    "import requests\n",
    "from bs4 import BeautifulSoup as bs\n",
    "from selenium import webdriver\n",
    "import time\n",
    "from requests_html import HTMLSession"
   ]
  },
  {
   "cell_type": "code",
   "execution_count": 4,
   "id": "7e402e64",
   "metadata": {},
   "outputs": [
    {
     "ename": "ElementClickInterceptedException",
     "evalue": "Message: element click intercepted: Element <a class=\"active\" href=\"/search/?query=covid\">...</a> is not clickable at point (398, 199). Other element would receive the click: <span class=\"ratiobox_content lqd imgLiquid_bgSize imgLiquid_ready\" style=\"background-image: url(&quot;https://akcdn.detik.net.id/visual/2021/08/31/ilustrasi-perempuan-belanja-sayur-di-pasar-tradisional_169.jpeg?w=220&amp;q=90&quot;); background-size: cover; background-position: center top; background-repeat: no-repeat;\">...</span>\n  (Session info: chrome=103.0.5060.114)\n",
     "output_type": "error",
     "traceback": [
      "\u001b[1;31m---------------------------------------------------------------------------\u001b[0m",
      "\u001b[1;31mElementClickInterceptedException\u001b[0m          Traceback (most recent call last)",
      "\u001b[1;32m<ipython-input-4-1bc0c93fa027>\u001b[0m in \u001b[0;36m<module>\u001b[1;34m\u001b[0m\n\u001b[0;32m     14\u001b[0m     \u001b[0mnum_btn_click\u001b[0m \u001b[1;33m=\u001b[0m \u001b[1;36m145\u001b[0m\u001b[1;33m\u001b[0m\u001b[1;33m\u001b[0m\u001b[0m\n\u001b[0;32m     15\u001b[0m     \u001b[1;32mfor\u001b[0m \u001b[0mi\u001b[0m \u001b[1;32min\u001b[0m \u001b[0mrange\u001b[0m\u001b[1;33m(\u001b[0m\u001b[1;36m1\u001b[0m\u001b[1;33m,\u001b[0m \u001b[0mnum_btn_click\u001b[0m\u001b[1;33m)\u001b[0m\u001b[1;33m:\u001b[0m\u001b[1;33m\u001b[0m\u001b[1;33m\u001b[0m\u001b[0m\n\u001b[1;32m---> 16\u001b[1;33m         \u001b[0mnxt_btn\u001b[0m \u001b[1;33m=\u001b[0m \u001b[0mbrowser\u001b[0m\u001b[1;33m.\u001b[0m\u001b[0mfind_element_by_xpath\u001b[0m\u001b[1;33m(\u001b[0m\u001b[1;34m'//*[@id=\"content\"]/div/div[2]/section/div/div/div/a'\u001b[0m\u001b[1;33m)\u001b[0m\u001b[1;33m.\u001b[0m\u001b[0mclick\u001b[0m\u001b[1;33m(\u001b[0m\u001b[1;33m)\u001b[0m\u001b[1;33m\u001b[0m\u001b[1;33m\u001b[0m\u001b[0m\n\u001b[0m\u001b[0;32m     17\u001b[0m         \u001b[0mtime\u001b[0m\u001b[1;33m.\u001b[0m\u001b[0msleep\u001b[0m\u001b[1;33m(\u001b[0m\u001b[1;36m2\u001b[0m\u001b[1;33m)\u001b[0m\u001b[1;33m\u001b[0m\u001b[1;33m\u001b[0m\u001b[0m\n\u001b[0;32m     18\u001b[0m \u001b[1;33m\u001b[0m\u001b[0m\n",
      "\u001b[1;32m~\\anaconda3\\lib\\site-packages\\selenium\\webdriver\\remote\\webelement.py\u001b[0m in \u001b[0;36mclick\u001b[1;34m(self)\u001b[0m\n\u001b[0;32m     78\u001b[0m     \u001b[1;32mdef\u001b[0m \u001b[0mclick\u001b[0m\u001b[1;33m(\u001b[0m\u001b[0mself\u001b[0m\u001b[1;33m)\u001b[0m\u001b[1;33m:\u001b[0m\u001b[1;33m\u001b[0m\u001b[1;33m\u001b[0m\u001b[0m\n\u001b[0;32m     79\u001b[0m         \u001b[1;34m\"\"\"Clicks the element.\"\"\"\u001b[0m\u001b[1;33m\u001b[0m\u001b[1;33m\u001b[0m\u001b[0m\n\u001b[1;32m---> 80\u001b[1;33m         \u001b[0mself\u001b[0m\u001b[1;33m.\u001b[0m\u001b[0m_execute\u001b[0m\u001b[1;33m(\u001b[0m\u001b[0mCommand\u001b[0m\u001b[1;33m.\u001b[0m\u001b[0mCLICK_ELEMENT\u001b[0m\u001b[1;33m)\u001b[0m\u001b[1;33m\u001b[0m\u001b[1;33m\u001b[0m\u001b[0m\n\u001b[0m\u001b[0;32m     81\u001b[0m \u001b[1;33m\u001b[0m\u001b[0m\n\u001b[0;32m     82\u001b[0m     \u001b[1;32mdef\u001b[0m \u001b[0msubmit\u001b[0m\u001b[1;33m(\u001b[0m\u001b[0mself\u001b[0m\u001b[1;33m)\u001b[0m\u001b[1;33m:\u001b[0m\u001b[1;33m\u001b[0m\u001b[1;33m\u001b[0m\u001b[0m\n",
      "\u001b[1;32m~\\anaconda3\\lib\\site-packages\\selenium\\webdriver\\remote\\webelement.py\u001b[0m in \u001b[0;36m_execute\u001b[1;34m(self, command, params)\u001b[0m\n\u001b[0;32m    631\u001b[0m             \u001b[0mparams\u001b[0m \u001b[1;33m=\u001b[0m \u001b[1;33m{\u001b[0m\u001b[1;33m}\u001b[0m\u001b[1;33m\u001b[0m\u001b[1;33m\u001b[0m\u001b[0m\n\u001b[0;32m    632\u001b[0m         \u001b[0mparams\u001b[0m\u001b[1;33m[\u001b[0m\u001b[1;34m'id'\u001b[0m\u001b[1;33m]\u001b[0m \u001b[1;33m=\u001b[0m \u001b[0mself\u001b[0m\u001b[1;33m.\u001b[0m\u001b[0m_id\u001b[0m\u001b[1;33m\u001b[0m\u001b[1;33m\u001b[0m\u001b[0m\n\u001b[1;32m--> 633\u001b[1;33m         \u001b[1;32mreturn\u001b[0m \u001b[0mself\u001b[0m\u001b[1;33m.\u001b[0m\u001b[0m_parent\u001b[0m\u001b[1;33m.\u001b[0m\u001b[0mexecute\u001b[0m\u001b[1;33m(\u001b[0m\u001b[0mcommand\u001b[0m\u001b[1;33m,\u001b[0m \u001b[0mparams\u001b[0m\u001b[1;33m)\u001b[0m\u001b[1;33m\u001b[0m\u001b[1;33m\u001b[0m\u001b[0m\n\u001b[0m\u001b[0;32m    634\u001b[0m \u001b[1;33m\u001b[0m\u001b[0m\n\u001b[0;32m    635\u001b[0m     \u001b[1;32mdef\u001b[0m \u001b[0mfind_element\u001b[0m\u001b[1;33m(\u001b[0m\u001b[0mself\u001b[0m\u001b[1;33m,\u001b[0m \u001b[0mby\u001b[0m\u001b[1;33m=\u001b[0m\u001b[0mBy\u001b[0m\u001b[1;33m.\u001b[0m\u001b[0mID\u001b[0m\u001b[1;33m,\u001b[0m \u001b[0mvalue\u001b[0m\u001b[1;33m=\u001b[0m\u001b[1;32mNone\u001b[0m\u001b[1;33m)\u001b[0m\u001b[1;33m:\u001b[0m\u001b[1;33m\u001b[0m\u001b[1;33m\u001b[0m\u001b[0m\n",
      "\u001b[1;32m~\\anaconda3\\lib\\site-packages\\selenium\\webdriver\\remote\\webdriver.py\u001b[0m in \u001b[0;36mexecute\u001b[1;34m(self, driver_command, params)\u001b[0m\n\u001b[0;32m    319\u001b[0m         \u001b[0mresponse\u001b[0m \u001b[1;33m=\u001b[0m \u001b[0mself\u001b[0m\u001b[1;33m.\u001b[0m\u001b[0mcommand_executor\u001b[0m\u001b[1;33m.\u001b[0m\u001b[0mexecute\u001b[0m\u001b[1;33m(\u001b[0m\u001b[0mdriver_command\u001b[0m\u001b[1;33m,\u001b[0m \u001b[0mparams\u001b[0m\u001b[1;33m)\u001b[0m\u001b[1;33m\u001b[0m\u001b[1;33m\u001b[0m\u001b[0m\n\u001b[0;32m    320\u001b[0m         \u001b[1;32mif\u001b[0m \u001b[0mresponse\u001b[0m\u001b[1;33m:\u001b[0m\u001b[1;33m\u001b[0m\u001b[1;33m\u001b[0m\u001b[0m\n\u001b[1;32m--> 321\u001b[1;33m             \u001b[0mself\u001b[0m\u001b[1;33m.\u001b[0m\u001b[0merror_handler\u001b[0m\u001b[1;33m.\u001b[0m\u001b[0mcheck_response\u001b[0m\u001b[1;33m(\u001b[0m\u001b[0mresponse\u001b[0m\u001b[1;33m)\u001b[0m\u001b[1;33m\u001b[0m\u001b[1;33m\u001b[0m\u001b[0m\n\u001b[0m\u001b[0;32m    322\u001b[0m             response['value'] = self._unwrap_value(\n\u001b[0;32m    323\u001b[0m                 response.get('value', None))\n",
      "\u001b[1;32m~\\anaconda3\\lib\\site-packages\\selenium\\webdriver\\remote\\errorhandler.py\u001b[0m in \u001b[0;36mcheck_response\u001b[1;34m(self, response)\u001b[0m\n\u001b[0;32m    240\u001b[0m                 \u001b[0malert_text\u001b[0m \u001b[1;33m=\u001b[0m \u001b[0mvalue\u001b[0m\u001b[1;33m[\u001b[0m\u001b[1;34m'alert'\u001b[0m\u001b[1;33m]\u001b[0m\u001b[1;33m.\u001b[0m\u001b[0mget\u001b[0m\u001b[1;33m(\u001b[0m\u001b[1;34m'text'\u001b[0m\u001b[1;33m)\u001b[0m\u001b[1;33m\u001b[0m\u001b[1;33m\u001b[0m\u001b[0m\n\u001b[0;32m    241\u001b[0m             \u001b[1;32mraise\u001b[0m \u001b[0mexception_class\u001b[0m\u001b[1;33m(\u001b[0m\u001b[0mmessage\u001b[0m\u001b[1;33m,\u001b[0m \u001b[0mscreen\u001b[0m\u001b[1;33m,\u001b[0m \u001b[0mstacktrace\u001b[0m\u001b[1;33m,\u001b[0m \u001b[0malert_text\u001b[0m\u001b[1;33m)\u001b[0m\u001b[1;33m\u001b[0m\u001b[1;33m\u001b[0m\u001b[0m\n\u001b[1;32m--> 242\u001b[1;33m         \u001b[1;32mraise\u001b[0m \u001b[0mexception_class\u001b[0m\u001b[1;33m(\u001b[0m\u001b[0mmessage\u001b[0m\u001b[1;33m,\u001b[0m \u001b[0mscreen\u001b[0m\u001b[1;33m,\u001b[0m \u001b[0mstacktrace\u001b[0m\u001b[1;33m)\u001b[0m\u001b[1;33m\u001b[0m\u001b[1;33m\u001b[0m\u001b[0m\n\u001b[0m\u001b[0;32m    243\u001b[0m \u001b[1;33m\u001b[0m\u001b[0m\n\u001b[0;32m    244\u001b[0m     \u001b[1;32mdef\u001b[0m \u001b[0m_value_or_default\u001b[0m\u001b[1;33m(\u001b[0m\u001b[0mself\u001b[0m\u001b[1;33m,\u001b[0m \u001b[0mobj\u001b[0m\u001b[1;33m,\u001b[0m \u001b[0mkey\u001b[0m\u001b[1;33m,\u001b[0m \u001b[0mdefault\u001b[0m\u001b[1;33m)\u001b[0m\u001b[1;33m:\u001b[0m\u001b[1;33m\u001b[0m\u001b[1;33m\u001b[0m\u001b[0m\n",
      "\u001b[1;31mElementClickInterceptedException\u001b[0m: Message: element click intercepted: Element <a class=\"active\" href=\"/search/?query=covid\">...</a> is not clickable at point (398, 199). Other element would receive the click: <span class=\"ratiobox_content lqd imgLiquid_bgSize imgLiquid_ready\" style=\"background-image: url(&quot;https://akcdn.detik.net.id/visual/2021/08/31/ilustrasi-perempuan-belanja-sayur-di-pasar-tradisional_169.jpeg?w=220&amp;q=90&quot;); background-size: cover; background-position: center top; background-repeat: no-repeat;\">...</span>\n  (Session info: chrome=103.0.5060.114)\n"
     ]
    }
   ],
   "source": [
    "url = 'https://www.cnnindonesia.com/search?query=covid'\n",
    "links = []\n",
    "\n",
    "options = webdriver.ChromeOptions()\n",
    "pathToChromeDriver = \"C:/Program Files/Google/Chrome/Application/chromedriver.exe\"\n",
    "browser = webdriver.Chrome(executable_path=pathToChromeDriver,\n",
    "                           options=options)\n",
    "    \n",
    "try:\n",
    "    browser.get(url)\n",
    "    browser.implicitly_wait(10)\n",
    "    html = browser.page_source\n",
    "    \n",
    "    num_btn_click = 145\n",
    "    for i in range(1, num_btn_click):\n",
    "        nxt_btn = browser.find_element_by_xpath('//*[@id=\"content\"]/div/div[2]/section/div/div/div/a').click()\n",
    "        time.sleep(2)\n",
    "    \n",
    "    content = browser.find_element_by_class_name('media_rows')\n",
    "    for elt in content.find_elements_by_tag_name('article'):\n",
    "        \n",
    "        link = elt.find_element_by_tag_name('a')\n",
    "        href = link.get_attribute('href')\n",
    "        links.append(href)\n",
    "            \n",
    "            \n",
    "finally:\n",
    "    browser.quit()"
   ]
  },
  {
   "cell_type": "code",
   "execution_count": 3,
   "id": "3c470aac",
   "metadata": {},
   "outputs": [
    {
     "data": {
      "text/plain": [
       "1015"
      ]
     },
     "execution_count": 3,
     "metadata": {},
     "output_type": "execute_result"
    }
   ],
   "source": [
    "len(links)"
   ]
  },
  {
   "cell_type": "code",
   "execution_count": 4,
   "id": "2139604b",
   "metadata": {},
   "outputs": [],
   "source": [
    "data = []\n",
    "\n",
    "for link in links:\n",
    "    url = requests.get(link)\n",
    "    soup = bs(url.text, 'lxml')\n",
    "    cont = soup.find('div', class_='content_detail')\n",
    "    title = cont.h1.get_text(strip=True) if cont.h1 else 'no title'\n",
    "    date = cont.find('div', class_='date').text.strip() if cont.find('div', class_='date') else 'no date'\n",
    "    content = ' '.join([p.get_text().strip() for p in cont.select('p')]) if cont.p else 'no content'    \n",
    "\n",
    "    data.append({\n",
    "        'Title':title,\n",
    "        'Text':content,\n",
    "        'Date':date\n",
    "    })    \n",
    "        "
   ]
  },
  {
   "cell_type": "code",
   "execution_count": 5,
   "id": "a5248e00",
   "metadata": {},
   "outputs": [],
   "source": [
    "df = pd.DataFrame(data)\n",
    "df.to_csv('C:/Users/zaliz/OneDrive/Desktop/scraping baru/crawl_cnn.csv', index=False)"
   ]
  },
  {
   "cell_type": "code",
   "execution_count": 6,
   "id": "ed8d19df",
   "metadata": {},
   "outputs": [
    {
     "data": {
      "text/html": [
       "<div>\n",
       "<style scoped>\n",
       "    .dataframe tbody tr th:only-of-type {\n",
       "        vertical-align: middle;\n",
       "    }\n",
       "\n",
       "    .dataframe tbody tr th {\n",
       "        vertical-align: top;\n",
       "    }\n",
       "\n",
       "    .dataframe thead th {\n",
       "        text-align: right;\n",
       "    }\n",
       "</style>\n",
       "<table border=\"1\" class=\"dataframe\">\n",
       "  <thead>\n",
       "    <tr style=\"text-align: right;\">\n",
       "      <th></th>\n",
       "      <th>judul</th>\n",
       "      <th>teks</th>\n",
       "      <th>tanggal</th>\n",
       "    </tr>\n",
       "  </thead>\n",
       "  <tbody>\n",
       "    <tr>\n",
       "      <th>0</th>\n",
       "      <td>Indeks Persepsi Korupsi, RI Urutan 102 Dunia S...</td>\n",
       "      <td>Indonesia berada di peringkat 102 dunia negara...</td>\n",
       "      <td>Kamis, 09 Dec 2021 09:50 WIB</td>\n",
       "    </tr>\n",
       "    <tr>\n",
       "      <th>1</th>\n",
       "      <td>Alasan Tepat Beli Rumah di Akhir Tahun</td>\n",
       "      <td>Punya rumah adalah impian bagi semua orang. Ba...</td>\n",
       "      <td>Kamis, 09 Dec 2021 09:40 WIB</td>\n",
       "    </tr>\n",
       "    <tr>\n",
       "      <th>2</th>\n",
       "      <td>Rupiah Menguat ke Rp14.319 per Dolar AS Pagi Ini</td>\n",
       "      <td>Nilai tukar rupiah berada di posisi Rp14.319 p...</td>\n",
       "      <td>Kamis, 09 Dec 2021 09:10 WIB</td>\n",
       "    </tr>\n",
       "    <tr>\n",
       "      <th>3</th>\n",
       "      <td>Satgas Sebut Pemerintah Bangun Kewaspadaan Mas...</td>\n",
       "      <td>Ketua Bidang Penanganan Kesehatan Satgas Covid...</td>\n",
       "      <td>Kamis, 09 Dec 2021 09:00 WIB</td>\n",
       "    </tr>\n",
       "    <tr>\n",
       "      <th>4</th>\n",
       "      <td>Harga Emas Antam Hari Ini 9 Desember, Turun ke...</td>\n",
       "      <td>Harga jual emas PT Aneka Tambang (Persero) Tbk...</td>\n",
       "      <td>Kamis, 09 Dec 2021 09:00 WIB</td>\n",
       "    </tr>\n",
       "    <tr>\n",
       "      <th>5</th>\n",
       "      <td>Angka Kematian Akibat Covid di Jerman Kembali ...</td>\n",
       "      <td>Angka kematian harian akibat Covid-19 di Jerma...</td>\n",
       "      <td>Kamis, 09 Dec 2021 08:50 WIB</td>\n",
       "    </tr>\n",
       "    <tr>\n",
       "      <th>6</th>\n",
       "      <td>Suara Dua Bakal Calon Ketum PBNU: Said Aqil da...</td>\n",
       "      <td>Gelaran muktamar ke-34 Nahdlatul Ulama (NU) te...</td>\n",
       "      <td>Kamis, 09 Dec 2021 08:31 WIB</td>\n",
       "    </tr>\n",
       "    <tr>\n",
       "      <th>7</th>\n",
       "      <td>Profil Olaf Scholz, Kanselir Baru Jerman Pengg...</td>\n",
       "      <td>Olaf Scholz resmi menjadi kanselir baru Jerman...</td>\n",
       "      <td>Kamis, 09 Dec 2021 08:25 WIB</td>\n",
       "    </tr>\n",
       "    <tr>\n",
       "      <th>8</th>\n",
       "      <td>VIDEO: Penggunaan Masker dengan Benar</td>\n",
       "      <td>Pandemi covid 19 yang belum usai, membuat masy...</td>\n",
       "      <td>CNN Indonesia TV, CNN Indonesia | Kamis, 09 De...</td>\n",
       "    </tr>\n",
       "    <tr>\n",
       "      <th>9</th>\n",
       "      <td>Hukuman Mati Koruptor, Antara Efek Jera dan Ha...</td>\n",
       "      <td>Terdakwa kasus dugaan korupsi PT ASABRI, Heru ...</td>\n",
       "      <td>Kamis, 09 Dec 2021 08:00 WIB</td>\n",
       "    </tr>\n",
       "  </tbody>\n",
       "</table>\n",
       "</div>"
      ],
      "text/plain": [
       "                                               judul  \\\n",
       "0  Indeks Persepsi Korupsi, RI Urutan 102 Dunia S...   \n",
       "1             Alasan Tepat Beli Rumah di Akhir Tahun   \n",
       "2   Rupiah Menguat ke Rp14.319 per Dolar AS Pagi Ini   \n",
       "3  Satgas Sebut Pemerintah Bangun Kewaspadaan Mas...   \n",
       "4  Harga Emas Antam Hari Ini 9 Desember, Turun ke...   \n",
       "5  Angka Kematian Akibat Covid di Jerman Kembali ...   \n",
       "6  Suara Dua Bakal Calon Ketum PBNU: Said Aqil da...   \n",
       "7  Profil Olaf Scholz, Kanselir Baru Jerman Pengg...   \n",
       "8              VIDEO: Penggunaan Masker dengan Benar   \n",
       "9  Hukuman Mati Koruptor, Antara Efek Jera dan Ha...   \n",
       "\n",
       "                                                teks  \\\n",
       "0  Indonesia berada di peringkat 102 dunia negara...   \n",
       "1  Punya rumah adalah impian bagi semua orang. Ba...   \n",
       "2  Nilai tukar rupiah berada di posisi Rp14.319 p...   \n",
       "3  Ketua Bidang Penanganan Kesehatan Satgas Covid...   \n",
       "4  Harga jual emas PT Aneka Tambang (Persero) Tbk...   \n",
       "5  Angka kematian harian akibat Covid-19 di Jerma...   \n",
       "6  Gelaran muktamar ke-34 Nahdlatul Ulama (NU) te...   \n",
       "7  Olaf Scholz resmi menjadi kanselir baru Jerman...   \n",
       "8  Pandemi covid 19 yang belum usai, membuat masy...   \n",
       "9  Terdakwa kasus dugaan korupsi PT ASABRI, Heru ...   \n",
       "\n",
       "                                             tanggal  \n",
       "0                       Kamis, 09 Dec 2021 09:50 WIB  \n",
       "1                       Kamis, 09 Dec 2021 09:40 WIB  \n",
       "2                       Kamis, 09 Dec 2021 09:10 WIB  \n",
       "3                       Kamis, 09 Dec 2021 09:00 WIB  \n",
       "4                       Kamis, 09 Dec 2021 09:00 WIB  \n",
       "5                       Kamis, 09 Dec 2021 08:50 WIB  \n",
       "6                       Kamis, 09 Dec 2021 08:31 WIB  \n",
       "7                       Kamis, 09 Dec 2021 08:25 WIB  \n",
       "8  CNN Indonesia TV, CNN Indonesia | Kamis, 09 De...  \n",
       "9                       Kamis, 09 Dec 2021 08:00 WIB  "
      ]
     },
     "execution_count": 6,
     "metadata": {},
     "output_type": "execute_result"
    }
   ],
   "source": [
    "cnn_dt = pd.read_csv('C:/Users/zaliz/OneDrive/Desktop/scraping baru/crawl_cnn.csv')\n",
    "cnn_dt.head(10)"
   ]
  },
  {
   "cell_type": "code",
   "execution_count": 8,
   "id": "bf182a6b",
   "metadata": {},
   "outputs": [
    {
     "data": {
      "text/plain": [
       "1015"
      ]
     },
     "execution_count": 8,
     "metadata": {},
     "output_type": "execute_result"
    }
   ],
   "source": [
    "len(cnn_dt)"
   ]
  }
 ],
 "metadata": {
  "kernelspec": {
   "display_name": "Python 3",
   "language": "python",
   "name": "python3"
  },
  "language_info": {
   "codemirror_mode": {
    "name": "ipython",
    "version": 3
   },
   "file_extension": ".py",
   "mimetype": "text/x-python",
   "name": "python",
   "nbconvert_exporter": "python",
   "pygments_lexer": "ipython3",
   "version": "3.8.5"
  }
 },
 "nbformat": 4,
 "nbformat_minor": 5
}
