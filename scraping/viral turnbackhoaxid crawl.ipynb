{
 "cells": [
  {
   "cell_type": "code",
   "execution_count": 1,
   "id": "040ce22b",
   "metadata": {},
   "outputs": [],
   "source": [
    "import pandas as pd\n",
    "import numpy as np\n",
    "import requests\n",
    "from bs4 import BeautifulSoup as bs\n",
    "import re\n",
    "from datetime import datetime"
   ]
  },
  {
   "cell_type": "code",
   "execution_count": 11,
   "id": "16aa4033",
   "metadata": {},
   "outputs": [],
   "source": [
    "titles = []\n",
    "links = []\n",
    "page = 1\n",
    "\n",
    "while (page <= 65):\n",
    "    \n",
    "    url = requests.get(f\"https://turnbackhoax.id/page/{page}/?s=VIRAL\")\n",
    "    soup = bs(url.text, 'lxml')\n",
    "    posts = soup.find_all('div', class_='mh-loop mh-content')\n",
    "        \n",
    "    for post in posts:\n",
    "        articles =post.find_all('div', class_='mh-loop-content mh-clearfix')\n",
    "        for article in articles:\n",
    "            title = article.find('h3', class_ ='entry-title mh-loop-title')\n",
    "            titles.append(title.text.strip())\n",
    "            for a_tag in title.find_all('a'):\n",
    "                link = a_tag['href']\n",
    "                links.append(link)\n",
    "        \n",
    "    page = page + 1\n",
    "        "
   ]
  },
  {
   "cell_type": "code",
   "execution_count": 16,
   "id": "c67dd235",
   "metadata": {},
   "outputs": [
    {
     "data": {
      "text/plain": [
       "1300"
      ]
     },
     "execution_count": 16,
     "metadata": {},
     "output_type": "execute_result"
    }
   ],
   "source": [
    "len(links)"
   ]
  },
  {
   "cell_type": "code",
   "execution_count": 14,
   "id": "94daa747",
   "metadata": {},
   "outputs": [],
   "source": [
    "news_texts = []\n",
    "for link in links:\n",
    "    response = requests.get(link)\n",
    "    soup = bs(response.text, 'lxml')\n",
    "    main_cont = soup.find_all('div', class_='mh-content')\n",
    "    for m in main_cont:\n",
    "        p_cont= m.find('div', class_='entry-content mh-clearfix')\n",
    "        find_p = p_cont.find_all('p')\n",
    "        list_paragraphs=[]\n",
    "        for p in range(len(find_p)):\n",
    "            paragraph = find_p[p].get_text()\n",
    "            list_paragraphs.append(paragraph)\n",
    "            final_article = \" \".join(list_paragraphs)\n",
    "        news_texts.append(final_article)\n",
    "\n"
   ]
  },
  {
   "cell_type": "code",
   "execution_count": 15,
   "id": "e544812f",
   "metadata": {},
   "outputs": [
    {
     "data": {
      "text/plain": [
       "1300"
      ]
     },
     "execution_count": 15,
     "metadata": {},
     "output_type": "execute_result"
    }
   ],
   "source": [
    "len(news_texts)"
   ]
  },
  {
   "cell_type": "code",
   "execution_count": 17,
   "id": "fb3b0115",
   "metadata": {},
   "outputs": [],
   "source": [
    "data_col = {'Title': titles, 'Text': news_texts}\n",
    "data = pd.DataFrame(data_col)\n",
    "data.to_csv('viralHoax.news.csv', index=False)"
   ]
  },
  {
   "cell_type": "code",
   "execution_count": 18,
   "id": "d6cbf2d3",
   "metadata": {},
   "outputs": [
    {
     "data": {
      "text/html": [
       "<div>\n",
       "<style scoped>\n",
       "    .dataframe tbody tr th:only-of-type {\n",
       "        vertical-align: middle;\n",
       "    }\n",
       "\n",
       "    .dataframe tbody tr th {\n",
       "        vertical-align: top;\n",
       "    }\n",
       "\n",
       "    .dataframe thead th {\n",
       "        text-align: right;\n",
       "    }\n",
       "</style>\n",
       "<table border=\"1\" class=\"dataframe\">\n",
       "  <thead>\n",
       "    <tr style=\"text-align: right;\">\n",
       "      <th></th>\n",
       "      <th>Title</th>\n",
       "      <th>Text</th>\n",
       "    </tr>\n",
       "  </thead>\n",
       "  <tbody>\n",
       "    <tr>\n",
       "      <th>0</th>\n",
       "      <td>[SALAH] Video “viralkan penculik anak bkan hoa...</td>\n",
       "      <td>Pria dalam video bukan penculik anak, melainka...</td>\n",
       "    </tr>\n",
       "    <tr>\n",
       "      <th>1</th>\n",
       "      <td>[SALAH] Video “BERITA TERKINI ~ MPUS!! SRIMUL ...</td>\n",
       "      <td>Isi video tidak sesuai dengan klaim pada judul...</td>\n",
       "    </tr>\n",
       "    <tr>\n",
       "      <th>2</th>\n",
       "      <td>[SALAH]: Viral, Video Sedang Naik Sepeda Sehar...</td>\n",
       "      <td>Bukan dibacok atau dibegal. Kabidhumas Polda J...</td>\n",
       "    </tr>\n",
       "    <tr>\n",
       "      <th>3</th>\n",
       "      <td>[SALAH] Video “VIRAL TERBARU HARI INI ~ SELAMA...</td>\n",
       "      <td>Hasil Periksa Fakta Khairunnisa Andini (Univer...</td>\n",
       "    </tr>\n",
       "    <tr>\n",
       "      <th>4</th>\n",
       "      <td>[SALAH] Video “BERITA VIRAL ~ Amarahnya Suka M...</td>\n",
       "      <td>Di dalam isi video tidak ditemukan pernyataan ...</td>\n",
       "    </tr>\n",
       "    <tr>\n",
       "      <th>5</th>\n",
       "      <td>[SALAH] Video “BERITA VIRAL ~ YUSRIL GANDENG H...</td>\n",
       "      <td>Isi video tidak sesuai dengan judul dan narasi...</td>\n",
       "    </tr>\n",
       "    <tr>\n",
       "      <th>6</th>\n",
       "      <td>[SALAH] Video “BERITA TERKINI ~ AKHIR TR4GIS J...</td>\n",
       "      <td>Isi video merupakan suntingan sejumlah video d...</td>\n",
       "    </tr>\n",
       "    <tr>\n",
       "      <th>7</th>\n",
       "      <td>[SALAH] Video “KABAR TERBARU ~ TIT0 S4HKAN FP1...</td>\n",
       "      <td>Di dalam video tidak ada pernyataan Menteri Da...</td>\n",
       "    </tr>\n",
       "    <tr>\n",
       "      <th>8</th>\n",
       "      <td>[SALAH] Video “BERITA TERBARU HARI INI ~ INNAL...</td>\n",
       "      <td>Hasil Periksa Fakta Khairunnisa Andini (Univer...</td>\n",
       "    </tr>\n",
       "    <tr>\n",
       "      <th>9</th>\n",
       "      <td>[SALAH] Video “berita viral hari ini ~ DETIK2 ...</td>\n",
       "      <td>Hasil Periksa Fakta Khairunnisa Andini (Univer...</td>\n",
       "    </tr>\n",
       "  </tbody>\n",
       "</table>\n",
       "</div>"
      ],
      "text/plain": [
       "                                               Title  \\\n",
       "0  [SALAH] Video “viralkan penculik anak bkan hoa...   \n",
       "1  [SALAH] Video “BERITA TERKINI ~ MPUS!! SRIMUL ...   \n",
       "2  [SALAH]: Viral, Video Sedang Naik Sepeda Sehar...   \n",
       "3  [SALAH] Video “VIRAL TERBARU HARI INI ~ SELAMA...   \n",
       "4  [SALAH] Video “BERITA VIRAL ~ Amarahnya Suka M...   \n",
       "5  [SALAH] Video “BERITA VIRAL ~ YUSRIL GANDENG H...   \n",
       "6  [SALAH] Video “BERITA TERKINI ~ AKHIR TR4GIS J...   \n",
       "7  [SALAH] Video “KABAR TERBARU ~ TIT0 S4HKAN FP1...   \n",
       "8  [SALAH] Video “BERITA TERBARU HARI INI ~ INNAL...   \n",
       "9  [SALAH] Video “berita viral hari ini ~ DETIK2 ...   \n",
       "\n",
       "                                                Text  \n",
       "0  Pria dalam video bukan penculik anak, melainka...  \n",
       "1  Isi video tidak sesuai dengan klaim pada judul...  \n",
       "2  Bukan dibacok atau dibegal. Kabidhumas Polda J...  \n",
       "3  Hasil Periksa Fakta Khairunnisa Andini (Univer...  \n",
       "4  Di dalam isi video tidak ditemukan pernyataan ...  \n",
       "5  Isi video tidak sesuai dengan judul dan narasi...  \n",
       "6  Isi video merupakan suntingan sejumlah video d...  \n",
       "7  Di dalam video tidak ada pernyataan Menteri Da...  \n",
       "8  Hasil Periksa Fakta Khairunnisa Andini (Univer...  \n",
       "9  Hasil Periksa Fakta Khairunnisa Andini (Univer...  "
      ]
     },
     "execution_count": 18,
     "metadata": {},
     "output_type": "execute_result"
    }
   ],
   "source": [
    "df = pd.read_csv('viralHoax.news.csv')\n",
    "df.head(10)"
   ]
  },
  {
   "cell_type": "code",
   "execution_count": null,
   "id": "6e7d2cac",
   "metadata": {},
   "outputs": [],
   "source": []
  }
 ],
 "metadata": {
  "kernelspec": {
   "display_name": "Python 3",
   "language": "python",
   "name": "python3"
  },
  "language_info": {
   "codemirror_mode": {
    "name": "ipython",
    "version": 3
   },
   "file_extension": ".py",
   "mimetype": "text/x-python",
   "name": "python",
   "nbconvert_exporter": "python",
   "pygments_lexer": "ipython3",
   "version": "3.8.5"
  }
 },
 "nbformat": 4,
 "nbformat_minor": 5
}
