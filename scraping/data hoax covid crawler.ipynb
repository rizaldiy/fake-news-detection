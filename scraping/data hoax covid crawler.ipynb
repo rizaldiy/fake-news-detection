{
 "cells": [
  {
   "cell_type": "code",
   "execution_count": 1,
   "metadata": {},
   "outputs": [],
   "source": [
    "import pandas as pd\n",
    "import numpy as np\n",
    "import requests\n",
    "from bs4 import BeautifulSoup as bs\n",
    "import re\n",
    "from datetime import datetime"
   ]
  },
  {
   "cell_type": "code",
   "execution_count": 2,
   "metadata": {},
   "outputs": [],
   "source": [
    "titles = []\n",
    "links = []\n",
    "dates = []\n",
    "page = 1\n",
    "\n",
    "while (page <= 67):\n",
    "    \n",
    "    url = requests.get(f\"https://turnbackhoax.id/page/{page}/?s=COVID\")\n",
    "    soup = bs(url.text, 'lxml')\n",
    "    posts = soup.find_all('div', class_='mh-loop mh-content')\n",
    "        \n",
    "    for post in posts:\n",
    "        articles =post.find_all('div', class_='mh-loop-content mh-clearfix')\n",
    "        for article in articles:\n",
    "            date_cont = article.find_all('div', class_ = 'mh-meta mh-loop-meta')\n",
    "            for date_i in date_cont:\n",
    "                date_cont2 = date_i.find('span', class_='mh-meta-date updated')\n",
    "                dates.append(date_cont2.text.strip())\n",
    "            title = article.find('h3', class_ ='entry-title mh-loop-title')\n",
    "            titles.append(title.text.strip())\n",
    "            for a_tag in title.find_all('a'):\n",
    "                link = a_tag['href']\n",
    "                links.append(link)\n",
    "        \n",
    "    page = page + 1\n",
    "        "
   ]
  },
  {
   "cell_type": "code",
   "execution_count": 4,
   "metadata": {},
   "outputs": [
    {
     "data": {
      "text/plain": [
       "['[SALAH] Bill Gates akan Menarik Semua Peredaran Vaksin Covid-19',\n",
       " '[SALAH] Video 90% Alat Tes Covid-19 Palsu dan Tidak Berfungsi',\n",
       " '[SALAH] Video Protes Melawan Tirani Covid-19 di Belanda',\n",
       " '[SALAH] Viagra Dapat Menyembuhkan Covid-19',\n",
       " '[SALAH] Pasien Covid-19 Tanpa Gejala Berarti Sehat dan Mendapatkan Hasil Test Positif Palsu',\n",
       " '[SALAH] Atlet Tenis Dalila Jakupovic Mengalami Kesulitan Bernapas saat Babak Kualifikasi Australia Open karena Vaksin Covid-19',\n",
       " '[SALAH] Daftar Kandungan Bahan Kimia Berbahaya dalam Vaksin Covid-19',\n",
       " '[SALAH] Pemerintah New Zealand Mengizinkan Euthanasia Secara Spesifik bagi Pasien COVID-19',\n",
       " '[SALAH] Video Penduduk Aborigin di Australia Menyambut Pemerintah dengan Busur dan Panah sebagai Bentuk Penolakan Vaksin Covid-19',\n",
       " '[SALAH] Pemesanan Online Vaksin Covid-19 Sinopharm Melalui E-Commerce',\n",
       " '[SALAH] Victor Lindelof Gagal Jantung setelah Vaksinasi Covid-19, kemudian Jantungnya Dipasangi Chip',\n",
       " '[SALAH] Link Mendaftarkan Bantuan Covid-19 Bagi yang Mempunyai E-KTP',\n",
       " '[SALAH] Bill Gates Pembuat Virus Covid-19',\n",
       " '[SALAH] Gejala Varian Omicron Disebabkan oleh Komplikasi Vaksin Covid-19',\n",
       " '[SALAH] Mandi Detox Menggunakan Campuran Garam Epsom, Baking Soda, Borax, dan Indian Healing Clay Mampu Mengeluarkan Kandungan Vaksin Covid yang Sebelumnya Telah Disuntikkan Kepada Seseorang',\n",
       " '[SALAH] Komik “Phantom” yang Terbit Tahun 1957 Memprediksi Munculnya Covid-19',\n",
       " '[SALAH] Foto Demo Melanggar Covid dan Vaksinasi di Wina, Austria',\n",
       " '[SALAH] Terdapat Parasit yang Mematikan di Dalam Vaksin Covid-19',\n",
       " '[SALAH] Jepang Menggunakan Ivermectin dan Menghentikan Vaksin untuk Memberantas Virus Covid-19',\n",
       " '[SALAH] PPKM Level 4 Pada 24 Desember 2021 Karena Ada Varian Covid-19 Baru']"
      ]
     },
     "execution_count": 4,
     "metadata": {},
     "output_type": "execute_result"
    }
   ],
   "source": [
    "titles[0:20]"
   ]
  },
  {
   "cell_type": "code",
   "execution_count": 5,
   "metadata": {},
   "outputs": [
    {
     "data": {
      "text/plain": [
       "1200"
      ]
     },
     "execution_count": 5,
     "metadata": {},
     "output_type": "execute_result"
    }
   ],
   "source": [
    "len(links)"
   ]
  },
  {
   "cell_type": "code",
   "execution_count": 6,
   "metadata": {
    "scrolled": false
   },
   "outputs": [],
   "source": [
    "# url = requests.get(\"https://turnbackhoax.id/?s=COVID\")\n",
    "# soup = BeautifulSoup(url.text, 'lxml')\n",
    "\n",
    "news_texts = []\n",
    "for link in links:\n",
    "    response = requests.get(link)\n",
    "    soup = bs(response.text, 'lxml')\n",
    "    main_cont = soup.find_all('div', class_='mh-content')\n",
    "    for m in main_cont:\n",
    "        p_cont= m.find('div', class_='entry-content mh-clearfix')\n",
    "        find_p = p_cont.find_all('p')\n",
    "        list_paragraphs=[]\n",
    "        for p in range(len(find_p)):\n",
    "            paragraph = find_p[p].get_text()\n",
    "            list_paragraphs.append(paragraph)\n",
    "            final_article = \" \".join(list_paragraphs)\n",
    "        news_texts.append(final_article)\n",
    "#         now = datetime.now()\n",
    "#         date_str = now.strftime(\"%d/%m/%Y %H:%M:%S\")\n",
    "#         dates.append(date_str)\n",
    "\n"
   ]
  },
  {
   "cell_type": "code",
   "execution_count": 7,
   "metadata": {},
   "outputs": [],
   "source": [
    "data_col = {'Title': titles, 'Text': news_texts, 'Date': dates}\n",
    "data = pd.DataFrame(data_col)\n",
    "data.to_csv('covidHoax_news.csv', index=False)"
   ]
  },
  {
   "cell_type": "code",
   "execution_count": 9,
   "metadata": {},
   "outputs": [
    {
     "data": {
      "text/html": [
       "<div>\n",
       "<style scoped>\n",
       "    .dataframe tbody tr th:only-of-type {\n",
       "        vertical-align: middle;\n",
       "    }\n",
       "\n",
       "    .dataframe tbody tr th {\n",
       "        vertical-align: top;\n",
       "    }\n",
       "\n",
       "    .dataframe thead th {\n",
       "        text-align: right;\n",
       "    }\n",
       "</style>\n",
       "<table border=\"1\" class=\"dataframe\">\n",
       "  <thead>\n",
       "    <tr style=\"text-align: right;\">\n",
       "      <th></th>\n",
       "      <th>Title</th>\n",
       "      <th>Text</th>\n",
       "      <th>Date</th>\n",
       "    </tr>\n",
       "  </thead>\n",
       "  <tbody>\n",
       "    <tr>\n",
       "      <th>0</th>\n",
       "      <td>[SALAH] Bill Gates akan Menarik Semua Peredara...</td>\n",
       "      <td>Hasil Periksa Fakta Ani Nur MR Informasi Palsu...</td>\n",
       "      <td>Januari 23, 2022</td>\n",
       "    </tr>\n",
       "    <tr>\n",
       "      <th>1</th>\n",
       "      <td>[SALAH] Video 90% Alat Tes Covid-19 Palsu dan ...</td>\n",
       "      <td>Hasil Periksa Fakta Gabriela Nauli Sinaga (Uni...</td>\n",
       "      <td>Januari 23, 2022</td>\n",
       "    </tr>\n",
       "    <tr>\n",
       "      <th>2</th>\n",
       "      <td>[SALAH] Video Protes Melawan Tirani Covid-19 d...</td>\n",
       "      <td>Hasil Periksa Fakta Ani Nur MR Aksi protes tid...</td>\n",
       "      <td>Januari 22, 2022</td>\n",
       "    </tr>\n",
       "    <tr>\n",
       "      <th>3</th>\n",
       "      <td>[SALAH] Viagra Dapat Menyembuhkan Covid-19</td>\n",
       "      <td>Hasil Periksa Fakta Fathia IS. Informasi terse...</td>\n",
       "      <td>Januari 22, 2022</td>\n",
       "    </tr>\n",
       "    <tr>\n",
       "      <th>4</th>\n",
       "      <td>[SALAH] Pasien Covid-19 Tanpa Gejala Berarti S...</td>\n",
       "      <td>Hasil Periksa Fakta Fathia IS.  Informasi ters...</td>\n",
       "      <td>Januari 22, 2022</td>\n",
       "    </tr>\n",
       "    <tr>\n",
       "      <th>5</th>\n",
       "      <td>[SALAH] Atlet Tenis Dalila Jakupovic Mengalami...</td>\n",
       "      <td>Hasil Periksa Fakta Khairunnisa Andini. Bukan ...</td>\n",
       "      <td>Januari 19, 2022</td>\n",
       "    </tr>\n",
       "    <tr>\n",
       "      <th>6</th>\n",
       "      <td>[SALAH] Daftar Kandungan Bahan Kimia Berbahaya...</td>\n",
       "      <td>Hasil Periksa Fakta Nadine Salsabila (Universi...</td>\n",
       "      <td>Januari 16, 2022</td>\n",
       "    </tr>\n",
       "    <tr>\n",
       "      <th>7</th>\n",
       "      <td>[SALAH] Pemerintah New Zealand Mengizinkan Eut...</td>\n",
       "      <td>Hasil periksa fakta Evarizma Zahra. Informasi ...</td>\n",
       "      <td>Januari 12, 2022</td>\n",
       "    </tr>\n",
       "    <tr>\n",
       "      <th>8</th>\n",
       "      <td>[SALAH] Video Penduduk Aborigin di Australia M...</td>\n",
       "      <td>Hasil Periksa Fakta Khairunnisa Andini. Bukan ...</td>\n",
       "      <td>Januari 7, 2022</td>\n",
       "    </tr>\n",
       "    <tr>\n",
       "      <th>9</th>\n",
       "      <td>[SALAH] Pemesanan Online Vaksin Covid-19 Sinop...</td>\n",
       "      <td>Informasi menyesatkan. Kementerian Kesehatan R...</td>\n",
       "      <td>Desember 31, 2021</td>\n",
       "    </tr>\n",
       "  </tbody>\n",
       "</table>\n",
       "</div>"
      ],
      "text/plain": [
       "                                               Title  \\\n",
       "0  [SALAH] Bill Gates akan Menarik Semua Peredara...   \n",
       "1  [SALAH] Video 90% Alat Tes Covid-19 Palsu dan ...   \n",
       "2  [SALAH] Video Protes Melawan Tirani Covid-19 d...   \n",
       "3         [SALAH] Viagra Dapat Menyembuhkan Covid-19   \n",
       "4  [SALAH] Pasien Covid-19 Tanpa Gejala Berarti S...   \n",
       "5  [SALAH] Atlet Tenis Dalila Jakupovic Mengalami...   \n",
       "6  [SALAH] Daftar Kandungan Bahan Kimia Berbahaya...   \n",
       "7  [SALAH] Pemerintah New Zealand Mengizinkan Eut...   \n",
       "8  [SALAH] Video Penduduk Aborigin di Australia M...   \n",
       "9  [SALAH] Pemesanan Online Vaksin Covid-19 Sinop...   \n",
       "\n",
       "                                                Text               Date  \n",
       "0  Hasil Periksa Fakta Ani Nur MR Informasi Palsu...   Januari 23, 2022  \n",
       "1  Hasil Periksa Fakta Gabriela Nauli Sinaga (Uni...   Januari 23, 2022  \n",
       "2  Hasil Periksa Fakta Ani Nur MR Aksi protes tid...   Januari 22, 2022  \n",
       "3  Hasil Periksa Fakta Fathia IS. Informasi terse...   Januari 22, 2022  \n",
       "4  Hasil Periksa Fakta Fathia IS.  Informasi ters...   Januari 22, 2022  \n",
       "5  Hasil Periksa Fakta Khairunnisa Andini. Bukan ...   Januari 19, 2022  \n",
       "6  Hasil Periksa Fakta Nadine Salsabila (Universi...   Januari 16, 2022  \n",
       "7  Hasil periksa fakta Evarizma Zahra. Informasi ...   Januari 12, 2022  \n",
       "8  Hasil Periksa Fakta Khairunnisa Andini. Bukan ...    Januari 7, 2022  \n",
       "9  Informasi menyesatkan. Kementerian Kesehatan R...  Desember 31, 2021  "
      ]
     },
     "execution_count": 9,
     "metadata": {},
     "output_type": "execute_result"
    }
   ],
   "source": [
    "dt = pd.read_csv('covidHoax_news.csv')\n",
    "dt.head(10)"
   ]
  }
 ],
 "metadata": {
  "kernelspec": {
   "display_name": "Python 3",
   "language": "python",
   "name": "python3"
  },
  "language_info": {
   "codemirror_mode": {
    "name": "ipython",
    "version": 3
   },
   "file_extension": ".py",
   "mimetype": "text/x-python",
   "name": "python",
   "nbconvert_exporter": "python",
   "pygments_lexer": "ipython3",
   "version": "3.8.5"
  }
 },
 "nbformat": 4,
 "nbformat_minor": 4
}
